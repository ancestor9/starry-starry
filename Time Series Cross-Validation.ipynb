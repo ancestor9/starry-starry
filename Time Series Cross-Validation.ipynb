{
 "cells": [
  {
   "cell_type": "markdown",
   "id": "256c29a7",
   "metadata": {},
   "source": [
    "# Monte Carlo Cross-Validation for Time Series\n",
    "https://towardsdatascience.com/monte-carlo-cross-validation-for-time-series-ed01c41e2995\n",
    "<img src='https://images.unsplash.com/photo-1504197832061-98356e3dcdcf?ixlib=rb-4.0.3&ixid=MnwxMjA3fDB8MHxzZWFyY2h8MjB8fHRpbWV8ZW58MHx8MHx8&auto=format&fit=crop&w=500&q=60'>"
   ]
  },
  {
   "cell_type": "code",
   "execution_count": 1,
   "id": "edb032a2",
   "metadata": {},
   "outputs": [],
   "source": [
    "from typing import List, Generator\n",
    "\n",
    "import numpy as np\n",
    "\n",
    "from sklearn.model_selection._split import _BaseKFold\n",
    "from sklearn.utils.validation import indexable, _num_samples\n",
    "\n",
    "\n",
    "class MonteCarloCV(_BaseKFold):\n",
    "\n",
    "    def __init__(self,\n",
    "                 n_splits: int,\n",
    "                 train_size: float,\n",
    "                 test_size: float,\n",
    "                 gap: int = 0):\n",
    "        \"\"\"\n",
    "        Monte Carlo Cross-Validation\n",
    "\n",
    "        Holdout applied in multiple testing periods\n",
    "        Testing origin (time-step where testing begins) is randomly chosen according to a monte carlo simulation\n",
    "\n",
    "        :param n_splits: (int) Number of monte carlo repetitions in the procedure\n",
    "        :param train_size: (float) Train size, in terms of ratio of the total length of the series\n",
    "        :param test_size: (float) Test size, in terms of ratio of the total length of the series\n",
    "        :param gap: (int) Number of samples to exclude from the end of each train set before the test set.\n",
    "        \"\"\"\n",
    "\n",
    "        self.n_splits = n_splits\n",
    "        self.n_samples = -1\n",
    "        self.gap = gap\n",
    "        self.train_size = train_size\n",
    "        self.test_size = test_size\n",
    "        self.train_n_samples = 0\n",
    "        self.test_n_samples = 0\n",
    "\n",
    "        self.mc_origins = []\n",
    "\n",
    "    def split(self, X, y=None, groups=None) -> Generator:\n",
    "        \"\"\"Generate indices to split data into training and test set.\n",
    "        Parameters\n",
    "        ----------\n",
    "        X : array-like of shape (n_samples, n_features)\n",
    "            Training data, where `n_samples` is the number of samples\n",
    "            and `n_features` is the number of features.\n",
    "        y : array-like of shape (n_samples,)\n",
    "            Always ignored, exists for compatibility.\n",
    "        groups : array-like of shape (n_samples,)\n",
    "            Always ignored, exists for compatibility.\n",
    "        Yields\n",
    "        ------\n",
    "        train : ndarray\n",
    "            The training set indices for that split.\n",
    "        test : ndarray\n",
    "            The testing set indices for that split.\n",
    "        \"\"\"\n",
    "\n",
    "        X, y, groups = indexable(X, y, groups)\n",
    "        self.n_samples = _num_samples(X)\n",
    "\n",
    "        self.train_n_samples = int(self.n_samples * self.train_size) - 1\n",
    "        self.test_n_samples = int(self.n_samples * self.test_size) - 1\n",
    "\n",
    "        # Make sure we have enough samples for the given split parameters\n",
    "        if self.n_splits > self.n_samples:\n",
    "            raise ValueError(\n",
    "                f'Cannot have number of folds={self.n_splits} greater'\n",
    "                f' than the number of samples={self.n_samples}.'\n",
    "            )\n",
    "        if self.train_n_samples - self.gap <= 0:\n",
    "            raise ValueError(\n",
    "                f'The gap={self.gap} is too big for number of training samples'\n",
    "                f'={self.train_n_samples} with testing samples={self.test_n_samples} and gap={self.gap}.'\n",
    "            )\n",
    "\n",
    "        indices = np.arange(self.n_samples)\n",
    "\n",
    "        selection_range = np.arange(self.train_n_samples + 1, self.n_samples - self.test_n_samples - 1)\n",
    "\n",
    "        self.mc_origins = \\\n",
    "            np.random.choice(a=selection_range,\n",
    "                             size=self.n_splits,\n",
    "                             replace=True)\n",
    "\n",
    "        for origin in self.mc_origins:\n",
    "            if self.gap > 0:\n",
    "                train_end = origin - self.gap + 1\n",
    "            else:\n",
    "                train_end = origin - self.gap\n",
    "            train_start = origin - self.train_n_samples - 1\n",
    "\n",
    "            test_end = origin + self.test_n_samples\n",
    "\n",
    "            yield (\n",
    "                indices[train_start:train_end],\n",
    "                indices[origin:test_end],\n",
    "            )\n",
    "\n",
    "    def get_origins(self) -> List[int]:\n",
    "        return self.mc_origins"
   ]
  },
  {
   "cell_type": "code",
   "execution_count": 2,
   "id": "00e84a76",
   "metadata": {},
   "outputs": [
    {
     "name": "stdout",
     "output_type": "stream",
     "text": [
      "TRAIN: [21 22 23 24 25 26 27 28 29 30 31 32 33 34 35 36 37 38 39 40 41 42 43 44\n",
      " 45 46 47 48 49 50 51 52 53 54 55 56 57 58 59 60 61 62 63 64 65 66 67 68\n",
      " 69 70 71 72 73 74 75 76 77 78 79 80 81 82 83 84 85 86 87 88 89 90 91 92] TEST: [ 93  94  95  96  97  98  99 100 101 102 103]\n",
      "****************************************************************************************************\n",
      "TRAIN: [27 28 29 30 31 32 33 34 35 36 37 38 39 40 41 42 43 44 45 46 47 48 49 50\n",
      " 51 52 53 54 55 56 57 58 59 60 61 62 63 64 65 66 67 68 69 70 71 72 73 74\n",
      " 75 76 77 78 79 80 81 82 83 84 85 86 87 88 89 90 91 92 93 94 95 96 97 98] TEST: [ 99 100 101 102 103 104 105 106 107 108 109]\n",
      "****************************************************************************************************\n",
      "TRAIN: [20 21 22 23 24 25 26 27 28 29 30 31 32 33 34 35 36 37 38 39 40 41 42 43\n",
      " 44 45 46 47 48 49 50 51 52 53 54 55 56 57 58 59 60 61 62 63 64 65 66 67\n",
      " 68 69 70 71 72 73 74 75 76 77 78 79 80 81 82 83 84 85 86 87 88 89 90 91] TEST: [ 92  93  94  95  96  97  98  99 100 101 102]\n",
      "****************************************************************************************************\n",
      "TRAIN: [ 32  33  34  35  36  37  38  39  40  41  42  43  44  45  46  47  48  49\n",
      "  50  51  52  53  54  55  56  57  58  59  60  61  62  63  64  65  66  67\n",
      "  68  69  70  71  72  73  74  75  76  77  78  79  80  81  82  83  84  85\n",
      "  86  87  88  89  90  91  92  93  94  95  96  97  98  99 100 101 102 103] TEST: [104 105 106 107 108 109 110 111 112 113 114]\n",
      "****************************************************************************************************\n",
      "TRAIN: [ 9 10 11 12 13 14 15 16 17 18 19 20 21 22 23 24 25 26 27 28 29 30 31 32\n",
      " 33 34 35 36 37 38 39 40 41 42 43 44 45 46 47 48 49 50 51 52 53 54 55 56\n",
      " 57 58 59 60 61 62 63 64 65 66 67 68 69 70 71 72 73 74 75 76 77 78 79 80] TEST: [81 82 83 84 85 86 87 88 89 90 91]\n",
      "****************************************************************************************************\n"
     ]
    }
   ],
   "source": [
    "from sklearn.datasets import make_regression\n",
    "#from src.mccv import MonteCarloCV\n",
    "\n",
    "X, y = make_regression(n_samples=120)\n",
    "\n",
    "mccv = MonteCarloCV(n_splits=5, \n",
    "                    train_size=0.6, \n",
    "                    test_size=0.1, \n",
    "                    gap=0)\n",
    "\n",
    "for train_index, test_index in mccv.split(X):\n",
    "    print(\"TRAIN:\", train_index, \"TEST:\", test_index)\n",
    "    X_train, X_test = X[train_index], X[test_index]\n",
    "    print('*'*100)\n",
    "    y_train, y_test = y[train_index], y[test_index]"
   ]
  },
  {
   "cell_type": "code",
   "execution_count": 3,
   "id": "5151b5bc",
   "metadata": {},
   "outputs": [
    {
     "data": {
      "text/html": [
       "<style>#sk-container-id-1 {color: black;background-color: white;}#sk-container-id-1 pre{padding: 0;}#sk-container-id-1 div.sk-toggleable {background-color: white;}#sk-container-id-1 label.sk-toggleable__label {cursor: pointer;display: block;width: 100%;margin-bottom: 0;padding: 0.3em;box-sizing: border-box;text-align: center;}#sk-container-id-1 label.sk-toggleable__label-arrow:before {content: \"▸\";float: left;margin-right: 0.25em;color: #696969;}#sk-container-id-1 label.sk-toggleable__label-arrow:hover:before {color: black;}#sk-container-id-1 div.sk-estimator:hover label.sk-toggleable__label-arrow:before {color: black;}#sk-container-id-1 div.sk-toggleable__content {max-height: 0;max-width: 0;overflow: hidden;text-align: left;background-color: #f0f8ff;}#sk-container-id-1 div.sk-toggleable__content pre {margin: 0.2em;color: black;border-radius: 0.25em;background-color: #f0f8ff;}#sk-container-id-1 input.sk-toggleable__control:checked~div.sk-toggleable__content {max-height: 200px;max-width: 100%;overflow: auto;}#sk-container-id-1 input.sk-toggleable__control:checked~label.sk-toggleable__label-arrow:before {content: \"▾\";}#sk-container-id-1 div.sk-estimator input.sk-toggleable__control:checked~label.sk-toggleable__label {background-color: #d4ebff;}#sk-container-id-1 div.sk-label input.sk-toggleable__control:checked~label.sk-toggleable__label {background-color: #d4ebff;}#sk-container-id-1 input.sk-hidden--visually {border: 0;clip: rect(1px 1px 1px 1px);clip: rect(1px, 1px, 1px, 1px);height: 1px;margin: -1px;overflow: hidden;padding: 0;position: absolute;width: 1px;}#sk-container-id-1 div.sk-estimator {font-family: monospace;background-color: #f0f8ff;border: 1px dotted black;border-radius: 0.25em;box-sizing: border-box;margin-bottom: 0.5em;}#sk-container-id-1 div.sk-estimator:hover {background-color: #d4ebff;}#sk-container-id-1 div.sk-parallel-item::after {content: \"\";width: 100%;border-bottom: 1px solid gray;flex-grow: 1;}#sk-container-id-1 div.sk-label:hover label.sk-toggleable__label {background-color: #d4ebff;}#sk-container-id-1 div.sk-serial::before {content: \"\";position: absolute;border-left: 1px solid gray;box-sizing: border-box;top: 0;bottom: 0;left: 50%;z-index: 0;}#sk-container-id-1 div.sk-serial {display: flex;flex-direction: column;align-items: center;background-color: white;padding-right: 0.2em;padding-left: 0.2em;position: relative;}#sk-container-id-1 div.sk-item {position: relative;z-index: 1;}#sk-container-id-1 div.sk-parallel {display: flex;align-items: stretch;justify-content: center;background-color: white;position: relative;}#sk-container-id-1 div.sk-item::before, #sk-container-id-1 div.sk-parallel-item::before {content: \"\";position: absolute;border-left: 1px solid gray;box-sizing: border-box;top: 0;bottom: 0;left: 50%;z-index: -1;}#sk-container-id-1 div.sk-parallel-item {display: flex;flex-direction: column;z-index: 1;position: relative;background-color: white;}#sk-container-id-1 div.sk-parallel-item:first-child::after {align-self: flex-end;width: 50%;}#sk-container-id-1 div.sk-parallel-item:last-child::after {align-self: flex-start;width: 50%;}#sk-container-id-1 div.sk-parallel-item:only-child::after {width: 0;}#sk-container-id-1 div.sk-dashed-wrapped {border: 1px dashed gray;margin: 0 0.4em 0.5em 0.4em;box-sizing: border-box;padding-bottom: 0.4em;background-color: white;}#sk-container-id-1 div.sk-label label {font-family: monospace;font-weight: bold;display: inline-block;line-height: 1.2em;}#sk-container-id-1 div.sk-label-container {text-align: center;}#sk-container-id-1 div.sk-container {/* jupyter's `normalize.less` sets `[hidden] { display: none; }` but bootstrap.min.css set `[hidden] { display: none !important; }` so we also need the `!important` here to be able to override the default hidden behavior on the sphinx rendered scikit-learn.org. See: https://github.com/scikit-learn/scikit-learn/issues/21755 */display: inline-block !important;position: relative;}#sk-container-id-1 div.sk-text-repr-fallback {display: none;}</style><div id=\"sk-container-id-1\" class=\"sk-top-container\"><div class=\"sk-text-repr-fallback\"><pre>GridSearchCV(cv=MonteCarloCV(gap=0, n_splits=5, test_size=0.1, train_size=0.6),\n",
       "             estimator=RandomForestRegressor(),\n",
       "             param_grid={&#x27;n_estimators&#x27;: [10, 20, 30, 40, 50, 100]})</pre><b>In a Jupyter environment, please rerun this cell to show the HTML representation or trust the notebook. <br />On GitHub, the HTML representation is unable to render, please try loading this page with nbviewer.org.</b></div><div class=\"sk-container\" hidden><div class=\"sk-item sk-dashed-wrapped\"><div class=\"sk-label-container\"><div class=\"sk-label sk-toggleable\"><input class=\"sk-toggleable__control sk-hidden--visually\" id=\"sk-estimator-id-1\" type=\"checkbox\" ><label for=\"sk-estimator-id-1\" class=\"sk-toggleable__label sk-toggleable__label-arrow\">GridSearchCV</label><div class=\"sk-toggleable__content\"><pre>GridSearchCV(cv=MonteCarloCV(gap=0, n_splits=5, test_size=0.1, train_size=0.6),\n",
       "             estimator=RandomForestRegressor(),\n",
       "             param_grid={&#x27;n_estimators&#x27;: [10, 20, 30, 40, 50, 100]})</pre></div></div></div><div class=\"sk-parallel\"><div class=\"sk-parallel-item\"><div class=\"sk-item\"><div class=\"sk-label-container\"><div class=\"sk-label sk-toggleable\"><input class=\"sk-toggleable__control sk-hidden--visually\" id=\"sk-estimator-id-2\" type=\"checkbox\" ><label for=\"sk-estimator-id-2\" class=\"sk-toggleable__label sk-toggleable__label-arrow\">estimator: RandomForestRegressor</label><div class=\"sk-toggleable__content\"><pre>RandomForestRegressor()</pre></div></div></div><div class=\"sk-serial\"><div class=\"sk-item\"><div class=\"sk-estimator sk-toggleable\"><input class=\"sk-toggleable__control sk-hidden--visually\" id=\"sk-estimator-id-3\" type=\"checkbox\" ><label for=\"sk-estimator-id-3\" class=\"sk-toggleable__label sk-toggleable__label-arrow\">RandomForestRegressor</label><div class=\"sk-toggleable__content\"><pre>RandomForestRegressor()</pre></div></div></div></div></div></div></div></div></div></div>"
      ],
      "text/plain": [
       "GridSearchCV(cv=MonteCarloCV(gap=0, n_splits=5, test_size=0.1, train_size=0.6),\n",
       "             estimator=RandomForestRegressor(),\n",
       "             param_grid={'n_estimators': [10, 20, 30, 40, 50, 100]})"
      ]
     },
     "execution_count": 3,
     "metadata": {},
     "output_type": "execute_result"
    }
   ],
   "source": [
    "from sklearn.ensemble import RandomForestRegressor\n",
    "from sklearn.model_selection import GridSearchCV\n",
    "\n",
    "model = RandomForestRegressor()\n",
    "param_search = {'n_estimators': [10, 20, 30, 40, 50, 100]}\n",
    "\n",
    "gsearch = GridSearchCV(estimator=model, cv=mccv, param_grid=param_search)\n",
    "gsearch.fit(X, y)"
   ]
  },
  {
   "cell_type": "markdown",
   "id": "0cd480c2",
   "metadata": {},
   "source": [
    "# sklearn.model_selection.TimeSeriesSplit\n",
    "https://scikit-learn.org/stable/modules/generated/sklearn.model_selection.TimeSeriesSplit.html"
   ]
  },
  {
   "cell_type": "code",
   "execution_count": 4,
   "id": "4d85552c",
   "metadata": {},
   "outputs": [
    {
     "name": "stdout",
     "output_type": "stream",
     "text": [
      "TimeSeriesSplit(gap=0, max_train_size=None, n_splits=5, test_size=None)\n",
      "Fold 0:\n",
      "  Train: index=[ 0  1  2  3  4  5  6  7  8  9 10 11 12 13 14 15 16 17 18 19]\n",
      "  Test:  index=[20 21 22 23 24 25 26 27 28 29 30 31 32 33 34 35 36 37 38 39]\n",
      "Fold 1:\n",
      "  Train: index=[ 0  1  2  3  4  5  6  7  8  9 10 11 12 13 14 15 16 17 18 19 20 21 22 23\n",
      " 24 25 26 27 28 29 30 31 32 33 34 35 36 37 38 39]\n",
      "  Test:  index=[40 41 42 43 44 45 46 47 48 49 50 51 52 53 54 55 56 57 58 59]\n",
      "Fold 2:\n",
      "  Train: index=[ 0  1  2  3  4  5  6  7  8  9 10 11 12 13 14 15 16 17 18 19 20 21 22 23\n",
      " 24 25 26 27 28 29 30 31 32 33 34 35 36 37 38 39 40 41 42 43 44 45 46 47\n",
      " 48 49 50 51 52 53 54 55 56 57 58 59]\n",
      "  Test:  index=[60 61 62 63 64 65 66 67 68 69 70 71 72 73 74 75 76 77 78 79]\n",
      "Fold 3:\n",
      "  Train: index=[ 0  1  2  3  4  5  6  7  8  9 10 11 12 13 14 15 16 17 18 19 20 21 22 23\n",
      " 24 25 26 27 28 29 30 31 32 33 34 35 36 37 38 39 40 41 42 43 44 45 46 47\n",
      " 48 49 50 51 52 53 54 55 56 57 58 59 60 61 62 63 64 65 66 67 68 69 70 71\n",
      " 72 73 74 75 76 77 78 79]\n",
      "  Test:  index=[80 81 82 83 84 85 86 87 88 89 90 91 92 93 94 95 96 97 98 99]\n",
      "Fold 4:\n",
      "  Train: index=[ 0  1  2  3  4  5  6  7  8  9 10 11 12 13 14 15 16 17 18 19 20 21 22 23\n",
      " 24 25 26 27 28 29 30 31 32 33 34 35 36 37 38 39 40 41 42 43 44 45 46 47\n",
      " 48 49 50 51 52 53 54 55 56 57 58 59 60 61 62 63 64 65 66 67 68 69 70 71\n",
      " 72 73 74 75 76 77 78 79 80 81 82 83 84 85 86 87 88 89 90 91 92 93 94 95\n",
      " 96 97 98 99]\n",
      "  Test:  index=[100 101 102 103 104 105 106 107 108 109 110 111 112 113 114 115 116 117\n",
      " 118 119]\n"
     ]
    }
   ],
   "source": [
    "from sklearn.model_selection import TimeSeriesSplit\n",
    "tscv = TimeSeriesSplit()\n",
    "print(tscv)\n",
    "\n",
    "for i, (train_index, test_index) in enumerate(tscv.split(X)):\n",
    "    print(f\"Fold {i}:\")\n",
    "    print(f\"  Train: index={train_index}\")\n",
    "    print(f\"  Test:  index={test_index}\")"
   ]
  },
  {
   "cell_type": "code",
   "execution_count": null,
   "id": "97b9c1b1",
   "metadata": {},
   "outputs": [],
   "source": []
  },
  {
   "cell_type": "code",
   "execution_count": null,
   "id": "db621fcd",
   "metadata": {},
   "outputs": [],
   "source": []
  },
  {
   "cell_type": "code",
   "execution_count": null,
   "id": "97085aed",
   "metadata": {},
   "outputs": [],
   "source": []
  },
  {
   "cell_type": "code",
   "execution_count": null,
   "id": "f6e6e9f5",
   "metadata": {},
   "outputs": [],
   "source": []
  }
 ],
 "metadata": {
  "kernelspec": {
   "display_name": "Python 3",
   "language": "python",
   "name": "python3"
  },
  "language_info": {
   "codemirror_mode": {
    "name": "ipython",
    "version": 3
   },
   "file_extension": ".py",
   "mimetype": "text/x-python",
   "name": "python",
   "nbconvert_exporter": "python",
   "pygments_lexer": "ipython3",
   "version": "3.8.8"
  }
 },
 "nbformat": 4,
 "nbformat_minor": 5
}
