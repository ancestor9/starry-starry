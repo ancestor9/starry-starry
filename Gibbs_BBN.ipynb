{
 "cells": [
  {
   "cell_type": "code",
   "execution_count": 1,
   "id": "959ca3a1",
   "metadata": {},
   "outputs": [],
   "source": [
    "import numpy as np\n",
    "import pandas as pd\n",
    "import matplotlib.pyplot as plt\n",
    "import seaborn as sns"
   ]
  },
  {
   "cell_type": "code",
   "execution_count": 36,
   "id": "eabdfb67",
   "metadata": {},
   "outputs": [],
   "source": [
    "from IPython.core.interactiveshell import InteractiveShell # 모든 명령어 출력\n",
    "InteractiveShell.ast_node_interactivity = 'all'\n",
    "import warnings\n",
    "warnings.filterwarnings('ignore')"
   ]
  },
  {
   "cell_type": "markdown",
   "id": "e2d00604",
   "metadata": {},
   "source": [
    "## Bayesian Statistics: Metropolis-Hastings from scratch in Python\n",
    "https://towardsdatascience.com/bayesian-statistics-metropolis-hastings-from-scratch-in-python-c3b10cc4382d"
   ]
  },
  {
   "cell_type": "code",
   "execution_count": 3,
   "id": "04e59183",
   "metadata": {},
   "outputs": [],
   "source": [
    "def normal(x,mu,sigma):\n",
    "    numerator = np.exp((-(x-mu)**2)/(2*sigma**2))\n",
    "    denominator = sigma * np.sqrt(2*np.pi)\n",
    "    return numerator/denominator"
   ]
  },
  {
   "cell_type": "code",
   "execution_count": 26,
   "id": "110ca7b7",
   "metadata": {},
   "outputs": [],
   "source": [
    "def random_coin(p):\n",
    "    unif = np.random.uniform(0,1)\n",
    "    if unif>=p:\n",
    "        return False\n",
    "    else:\n",
    "        return True"
   ]
  },
  {
   "cell_type": "code",
   "execution_count": 27,
   "id": "27b8a50f",
   "metadata": {},
   "outputs": [],
   "source": [
    "def gaussian_mcmc(hops,mu,sigma):\n",
    "    states = []\n",
    "    burn_in = int(hops*0.2)\n",
    "    current = np.random.uniform(-5*sigma+mu, 5*sigma+mu)\n",
    "    for i in range(hops):\n",
    "        states.append(current)\n",
    "        movement = np.random.uniform(-5*sigma+mu, 5*sigma+mu)\n",
    "        \n",
    "        curr_prob = normal(x=current, mu=mu, sigma=sigma)\n",
    "        move_prob = normal(x=movement, mu=mu, sigma=sigma)\n",
    "        \n",
    "        acceptance = min(move_prob/curr_prob,1)\n",
    "        if random_coin(acceptance):\n",
    "            current = movement\n",
    "            \n",
    "    return states[burn_in:]"
   ]
  },
  {
   "cell_type": "code",
   "execution_count": 89,
   "id": "fbcb11d1",
   "metadata": {
    "scrolled": false
   },
   "outputs": [
    {
     "name": "stdout",
     "output_type": "stream",
     "text": [
      "최초 선택한 현재 상태: -3.6945202396236776\n",
      "0번째 선택한 현재상태: -3.6945202396236776\n",
      "0번째 선택한 현재상태 확률: 0.0004334741329790694\n",
      "~~~~~~~~~~~~~~~~~~~~~~~~~~~~~~~~~~~~~~~~~~~~~~~~~~\n",
      "0번째 선택한 이동상태: -3.329441110543087\n",
      "0번째 선택한 이동상태 확률: 0.001562407172854157\n",
      "0번째 선택한 이동상태/현재상태 비율: 3.6043838697281596과 Acceptance : 1\n"
     ]
    },
    {
     "data": {
      "text/plain": [
       "-3.329441110543087"
      ]
     },
     "execution_count": 89,
     "metadata": {},
     "output_type": "execute_result"
    },
    {
     "name": "stdout",
     "output_type": "stream",
     "text": [
      "Start0_번째****************************************************************************************************END\n",
      "1번째 선택한 현재상태: -3.329441110543087\n",
      "1번째 선택한 현재상태 확률: 0.001562407172854157\n",
      "~~~~~~~~~~~~~~~~~~~~~~~~~~~~~~~~~~~~~~~~~~~~~~~~~~\n",
      "1번째 선택한 이동상태: 4.516939942972403\n",
      "1번째 선택한 이동상태 확률: 1.4808462391145175e-05\n",
      "1번째 선택한 이동상태/현재상태 비율: 0.009477979011126488과 Acceptance : 0.009477979011126488\n"
     ]
    },
    {
     "data": {
      "text/plain": [
       "-3.329441110543087"
      ]
     },
     "execution_count": 89,
     "metadata": {},
     "output_type": "execute_result"
    },
    {
     "name": "stdout",
     "output_type": "stream",
     "text": [
      "Start1_번째****************************************************************************************************END\n",
      "2번째 선택한 현재상태: -3.329441110543087\n",
      "2번째 선택한 현재상태 확률: 0.001562407172854157\n",
      "~~~~~~~~~~~~~~~~~~~~~~~~~~~~~~~~~~~~~~~~~~~~~~~~~~\n",
      "2번째 선택한 이동상태: -0.8704629352724771\n",
      "2번째 선택한 이동상태 확률: 0.2731343735612147\n",
      "2번째 선택한 이동상태/현재상태 비율: 174.81638481104852과 Acceptance : 1\n"
     ]
    },
    {
     "data": {
      "text/plain": [
       "-0.8704629352724771"
      ]
     },
     "execution_count": 89,
     "metadata": {},
     "output_type": "execute_result"
    },
    {
     "name": "stdout",
     "output_type": "stream",
     "text": [
      "Start2_번째****************************************************************************************************END\n",
      "3번째 선택한 현재상태: -0.8704629352724771\n",
      "3번째 선택한 현재상태 확률: 0.2731343735612147\n",
      "~~~~~~~~~~~~~~~~~~~~~~~~~~~~~~~~~~~~~~~~~~~~~~~~~~\n",
      "3번째 선택한 이동상태: 4.069712690231697\n",
      "3번째 선택한 이동상태 확률: 0.00010101725403119281\n",
      "3번째 선택한 이동상태/현재상태 비율: 0.00036984453005345694과 Acceptance : 0.00036984453005345694\n"
     ]
    },
    {
     "data": {
      "text/plain": [
       "-0.8704629352724771"
      ]
     },
     "execution_count": 89,
     "metadata": {},
     "output_type": "execute_result"
    },
    {
     "name": "stdout",
     "output_type": "stream",
     "text": [
      "Start3_번째****************************************************************************************************END\n",
      "4번째 선택한 현재상태: -0.8704629352724771\n",
      "4번째 선택한 현재상태 확률: 0.2731343735612147\n",
      "~~~~~~~~~~~~~~~~~~~~~~~~~~~~~~~~~~~~~~~~~~~~~~~~~~\n",
      "4번째 선택한 이동상태: -4.701753887659264\n",
      "4번째 선택한 이동상태 확률: 6.317523086839813e-06\n",
      "4번째 선택한 이동상태/현재상태 비율: 2.3129725506423426e-05과 Acceptance : 2.3129725506423426e-05\n"
     ]
    },
    {
     "data": {
      "text/plain": [
       "-0.8704629352724771"
      ]
     },
     "execution_count": 89,
     "metadata": {},
     "output_type": "execute_result"
    },
    {
     "name": "stdout",
     "output_type": "stream",
     "text": [
      "Start4_번째****************************************************************************************************END\n"
     ]
    },
    {
     "data": {
      "text/plain": [
       "(array([4.06672987, 0.        , 0.        , 0.        , 0.        ,\n",
       "        0.        , 0.        , 0.        , 0.        , 0.        ,\n",
       "        0.        , 0.        , 0.        , 0.        , 0.        ,\n",
       "        0.        , 0.        , 0.        , 0.        , 4.06672987]),\n",
       " array([-3.32944111, -3.2064922 , -3.08354329, -2.96059438, -2.83764548,\n",
       "        -2.71469657, -2.59174766, -2.46879875, -2.34584984, -2.22290093,\n",
       "        -2.09995202, -1.97700311, -1.85405421, -1.7311053 , -1.60815639,\n",
       "        -1.48520748, -1.36225857, -1.23930966, -1.11636075, -0.99341184,\n",
       "        -0.87046294]),\n",
       " <BarContainer object of 20 artists>)"
      ]
     },
     "execution_count": 89,
     "metadata": {},
     "output_type": "execute_result"
    },
    {
     "data": {
      "image/png": "[encoded data removed]",
      "text/plain": [
       "<Figure size 432x288 with 1 Axes>"
      ]
     },
     "metadata": {
      "needs_background": "light"
     },
     "output_type": "display_data"
    }
   ],
   "source": [
    "mu=0; sigma=1\n",
    "hops = 5\n",
    "\n",
    "states = []\n",
    "burn_in = int(hops*0.2)\n",
    "current = np.random.uniform(-5*sigma+mu, 5*sigma+mu)\n",
    "print(f'최초 선택한 현재 상태: {current}')\n",
    "\n",
    "for i in range(hops):\n",
    "    \n",
    "    states.append(current)\n",
    "    \n",
    "    movement = np.random.uniform(-5*sigma+mu, 5*sigma+mu)\n",
    "    curr_prob = normal(x=current, mu=mu, sigma=sigma)\n",
    "    print(f'{i}번째 선택한 현재상태: {current}')\n",
    "    print(f'{i}번째 선택한 현재상태 확률: {curr_prob}')\n",
    "    print('~'*50)\n",
    "    move_prob = normal(x=movement, mu=mu, sigma=sigma)\n",
    "    print(f'{i}번째 선택한 이동상태: {movement}')\n",
    "    print(f'{i}번째 선택한 이동상태 확률: {move_prob}')\n",
    "\n",
    "    acceptance = min(move_prob/curr_prob,1)\n",
    "    print(f'{i}번째 선택한 이동상태/현재상태 비율: {move_prob/curr_prob}과 Acceptance : {acceptance}')\n",
    "    \n",
    "    if random_coin(acceptance):\n",
    "        current = movement\n",
    "    \n",
    "    current\n",
    "    print('Start' + str(i)+ '_번째'+'*'*100 + 'END')\n",
    "    \n",
    "dist = states[burn_in:]\n",
    "plt.hist(dist,density=True, bins=20)"
   ]
  },
  {
   "cell_type": "code",
   "execution_count": 88,
   "id": "4b0040fc",
   "metadata": {},
   "outputs": [
    {
     "data": {
      "text/plain": [
       "(array([2.89519120e-05, 1.15807648e-04, 8.10653536e-04, 2.31615296e-03,\n",
       "        9.06194845e-03, 2.45512214e-02, 6.05673999e-02, 1.30862642e-01,\n",
       "        2.28517441e-01, 3.40735052e-01, 3.94672464e-01, 3.85581564e-01,\n",
       "        3.14446716e-01, 2.11609525e-01, 1.21105848e-01, 5.68036513e-02,\n",
       "        2.48986443e-02, 7.00636270e-03, 1.96873002e-03, 4.92182504e-04]),\n",
       " array([-4.72046787, -4.28871746, -3.85696704, -3.42521663, -2.99346622,\n",
       "        -2.5617158 , -2.12996539, -1.69821497, -1.26646456, -0.83471414,\n",
       "        -0.40296373,  0.02878669,  0.4605371 ,  0.89228752,  1.32403793,\n",
       "         1.75578834,  2.18753876,  2.61928917,  3.05103959,  3.48279   ,\n",
       "         3.91454042]),\n",
       " <BarContainer object of 20 artists>)"
      ]
     },
     "execution_count": 88,
     "metadata": {},
     "output_type": "execute_result"
    },
    {
     "data": {
      "text/plain": [
       "[<matplotlib.lines.Line2D at 0x26d98517880>]"
      ]
     },
     "execution_count": 88,
     "metadata": {},
     "output_type": "execute_result"
    },
    {
     "data": {
      "image/png": "[encoded data removed]",
      "text/plain": [
       "<Figure size 432x288 with 1 Axes>"
      ]
     },
     "metadata": {
      "needs_background": "light"
     },
     "output_type": "display_data"
    }
   ],
   "source": [
    "lines = np.linspace(-3,3,1000)\n",
    "normal_curve = [normal(l,mu=0,sigma=1) for l in lines]\n",
    "\n",
    "dist = gaussian_mcmc(100_000, mu=0,sigma=1)\n",
    "plt.hist(dist,density=True, bins=20)\n",
    "plt.plot(lines,normal_curve)"
   ]
  },
  {
   "cell_type": "markdown",
   "id": "9352da49",
   "metadata": {},
   "source": [
    "## Gibbs sampling\n",
    "깁스 샘플 수를 늘려서 결합확률분포 direct_sample로부터 뽑은 결과와 비교하면 유사한 결과가 나오는걸 확인할 수 있습니다. 다시 말해 결합확률분포를 모를 때, 이미 알고 있는 일부 조건부 확률분포에 깁스 샘플링을 적용하여 해당 결합확률분포의 표본을 얻어낼 수 있다는 것입니다."
   ]
  },
  {
   "cell_type": "markdown",
   "id": "41ee1af1",
   "metadata": {},
   "source": [
    "## 1. Direct_sample"
   ]
  },
  {
   "cell_type": "code",
   "execution_count": 3,
   "id": "19d98d57",
   "metadata": {},
   "outputs": [],
   "source": [
    "import random\n",
    "\n",
    "def roll_a_die():\n",
    "    # 주사위 눈은 1~6\n",
    "    # 각 눈이 선택될 확률은 동일(uniform)\n",
    "    return random.choice(range(1,7))\n",
    "\n",
    "def direct_sample():\n",
    "    d1 = roll_a_die()\n",
    "    d2 = roll_a_die()\n",
    "    return d1, d1+d2"
   ]
  },
  {
   "cell_type": "code",
   "execution_count": 4,
   "id": "ea4788ee",
   "metadata": {},
   "outputs": [
    {
     "data": {
      "text/plain": [
       "[<matplotlib.lines.Line2D at 0x1b6ffef3160>,\n",
       " <matplotlib.lines.Line2D at 0x1b6ffef3220>]"
      ]
     },
     "execution_count": 4,
     "metadata": {},
     "output_type": "execute_result"
    },
    {
     "data": {
      "image/png": "[encoded data removed]",
      "text/plain": [
       "<Figure size 432x288 with 1 Axes>"
      ]
     },
     "metadata": {
      "needs_background": "light"
     },
     "output_type": "display_data"
    }
   ],
   "source": [
    "num_iters =200\n",
    "trials = []\n",
    "for _ in range(num_iters):\n",
    "    trials.append(direct_sample())\n",
    "\n",
    "plt.plot(trials)"
   ]
  },
  {
   "cell_type": "code",
   "execution_count": 5,
   "id": "a45c33df",
   "metadata": {},
   "outputs": [
    {
     "data": {
      "text/plain": [
       "array([[<AxesSubplot:title={'center':'x'}>,\n",
       "        <AxesSubplot:title={'center':'y= x+x2'}>]], dtype=object)"
      ]
     },
     "execution_count": 5,
     "metadata": {},
     "output_type": "execute_result"
    },
    {
     "data": {
      "image/png": "[encoded data removed]",
      "text/plain": [
       "<Figure size 432x288 with 2 Axes>"
      ]
     },
     "metadata": {
      "needs_background": "light"
     },
     "output_type": "display_data"
    }
   ],
   "source": [
    "data = pd.DataFrame(trials, columns=['x', 'y= x+x2'])\n",
    "data.hist()"
   ]
  },
  {
   "cell_type": "markdown",
   "id": "53226e14",
   "metadata": {},
   "source": [
    "## 2. 조건부 확률분포"
   ]
  },
  {
   "cell_type": "code",
   "execution_count": 6,
   "id": "84eff4ef",
   "metadata": {},
   "outputs": [],
   "source": [
    "def random_y_given_x(x):\n",
    "    # x값을 알고 있다는 전제 하에\n",
    "    # y값이 선택될 확률\n",
    "    # y는 x+1, x+2, x+3\n",
    "    # x+4, x+5, x+6 가운데 하나\n",
    "    return x + roll_a_die()\n",
    "\n",
    "def random_x_given_y(y):\n",
    "    # y값을 알고 있다는 전제 하에\n",
    "    # x값이 선택될 확률\n",
    "    # 첫째 둘째 주사위 값의 합이 7이거나\n",
    "    # 7보다 작다면\n",
    "    if y <= 7:\n",
    "        # 첫번째 주사위의 눈은 1~6\n",
    "        # 각 눈이 선택될 확률은 동일\n",
    "        return random.randrange(1, y)\n",
    "    # 만약 총합이 7보다 크다면\n",
    "    else:\n",
    "        # 첫번째 주사위의 눈은\n",
    "        # y-6, y-5,..., 6\n",
    "        # 각 눈이 선택될 확률은 동일\n",
    "        return random.randrange(y-6, 7)"
   ]
  },
  {
   "cell_type": "code",
   "execution_count": 7,
   "id": "d7baba49",
   "metadata": {},
   "outputs": [],
   "source": [
    "def gibbs_sample(num_iters=100):\n",
    "    # 초기값이 무엇이든 상관없음\n",
    "    x, y = 1, 2\n",
    "    for _ in range(num_iters):\n",
    "        x = random_x_given_y(y)\n",
    "        y = random_y_given_x(x)\n",
    "    return x, y"
   ]
  },
  {
   "cell_type": "code",
   "execution_count": 8,
   "id": "4bff942b",
   "metadata": {},
   "outputs": [
    {
     "data": {
      "text/plain": [
       "[<matplotlib.lines.Line2D at 0x1b6931771c0>,\n",
       " <matplotlib.lines.Line2D at 0x1b693177280>]"
      ]
     },
     "execution_count": 8,
     "metadata": {},
     "output_type": "execute_result"
    },
    {
     "data": {
      "image/png": "[encoded data removed]",
      "text/plain": [
       "<Figure size 432x288 with 1 Axes>"
      ]
     },
     "metadata": {
      "needs_background": "light"
     },
     "output_type": "display_data"
    }
   ],
   "source": [
    "num_iters =200\n",
    "x, y = 1, 2\n",
    "trials = []\n",
    "for _ in range(num_iters):\n",
    "    x = random_x_given_y(y)\n",
    "    y = random_y_given_x(x)\n",
    "    trials.append([x,y])\n",
    "\n",
    "plt.plot(trials)"
   ]
  },
  {
   "cell_type": "code",
   "execution_count": 9,
   "id": "998b26b2",
   "metadata": {},
   "outputs": [
    {
     "data": {
      "text/plain": [
       "array([[<AxesSubplot:title={'center':'x'}>,\n",
       "        <AxesSubplot:title={'center':'y= x+x2'}>]], dtype=object)"
      ]
     },
     "execution_count": 9,
     "metadata": {},
     "output_type": "execute_result"
    },
    {
     "data": {
      "image/png": "[encoded data removed]",
      "text/plain": [
       "<Figure size 432x288 with 2 Axes>"
      ]
     },
     "metadata": {
      "needs_background": "light"
     },
     "output_type": "display_data"
    }
   ],
   "source": [
    "data = pd.DataFrame(trials, columns=['x', 'y= x+x2'])\n",
    "data.hist()"
   ]
  },
  {
   "cell_type": "markdown",
   "id": "11cc46f9",
   "metadata": {},
   "source": [
    "### BBN: Bayesian Belief Networks — How to Build Them Effectively in Python\n",
    "- https://towardsdatascience.com/bbn-bayesian-belief-networks-how-to-build-them-effectively-in-python-6b7f93435bba\n",
    "- https://py-bbn.readthedocs.io/index.html"
   ]
  },
  {
   "cell_type": "markdown",
   "id": "25c61a40",
   "metadata": {},
   "source": [
    "## Introduction to PyMC3: A Python package for probabilistic programming\n",
    "https://towardsdatascience.com/introduction-to-pymc3-a-python-package-for-probabilistic-programming-5299278b428"
   ]
  },
  {
   "cell_type": "markdown",
   "id": "449012fe",
   "metadata": {},
   "source": [
    "### Bayesian network- Wikipedia\n",
    "<img src= 'https://upload.wikimedia.org/wikipedia/commons/thumb/0/0e/SimpleBayesNet.svg/600px-SimpleBayesNet.svg.png'>"
   ]
  },
  {
   "cell_type": "code",
   "execution_count": 4,
   "id": "4ada0d2d",
   "metadata": {},
   "outputs": [
    {
     "name": "stdout",
     "output_type": "stream",
     "text": [
      "Collecting pybbn\n",
      "  Downloading pybbn-3.2.1.tar.gz (35 kB)\n",
      "Requirement already satisfied: numpy in c:\\programdata\\anaconda3\\lib\\site-packages (from pybbn) (1.22.2)\n",
      "Requirement already satisfied: scipy in c:\\users\\nfsi291\\appdata\\roaming\\python\\python38\\site-packages (from pybbn) (1.5.4)\n",
      "Requirement already satisfied: networkx in c:\\programdata\\anaconda3\\lib\\site-packages (from pybbn) (2.5)\n",
      "Requirement already satisfied: pandas in c:\\programdata\\anaconda3\\lib\\site-packages (from pybbn) (1.4.1)\n",
      "Requirement already satisfied: decorator>=4.3.0 in c:\\programdata\\anaconda3\\lib\\site-packages (from networkx->pybbn) (5.0.6)\n",
      "Requirement already satisfied: python-dateutil>=2.8.1 in c:\\programdata\\anaconda3\\lib\\site-packages (from pandas->pybbn) (2.8.1)\n",
      "Requirement already satisfied: pytz>=2020.1 in c:\\programdata\\anaconda3\\lib\\site-packages (from pandas->pybbn) (2021.1)\n",
      "Requirement already satisfied: six>=1.5 in c:\\programdata\\anaconda3\\lib\\site-packages (from python-dateutil>=2.8.1->pandas->pybbn) (1.15.0)\n",
      "Building wheels for collected packages: pybbn\n",
      "  Building wheel for pybbn (setup.py): started\n",
      "  Building wheel for pybbn (setup.py): finished with status 'done'\n",
      "  Created wheel for pybbn: filename=pybbn-3.2.1-py3-none-any.whl size=39725 sha256=8c3576708dbaab1a798efb01f75f2bc5b93b62ebcca4639ecfe93b44dbf1865b\n",
      "  Stored in directory: c:\\users\\nfsi291\\appdata\\local\\pip\\cache\\wheels\\06\\80\\2f\\0e63fe5497b2917af3b7bdcbb142985ba4e5e5ef9a2c0b14b9\n",
      "Successfully built pybbn\n",
      "Installing collected packages: pybbn\n",
      "Successfully installed pybbn-3.2.1\n"
     ]
    }
   ],
   "source": [
    "! pip install pybbn"
   ]
  },
  {
   "cell_type": "code",
   "execution_count": 5,
   "id": "0bf4d047",
   "metadata": {},
   "outputs": [],
   "source": [
    "import pandas as pd # for data manipulation \n",
    "import networkx as nx # for drawing graphs\n",
    "import matplotlib.pyplot as plt # for drawing graphs\n",
    "\n",
    "# for creating Bayesian Belief Networks (BBN)\n",
    "from pybbn.graph.dag import Bbn\n",
    "from pybbn.graph.edge import Edge, EdgeType\n",
    "from pybbn.graph.jointree import EvidenceBuilder\n",
    "from pybbn.graph.node import BbnNode\n",
    "from pybbn.graph.variable import Variable\n",
    "from pybbn.pptc.inferencecontroller import InferenceController"
   ]
  },
  {
   "cell_type": "code",
   "execution_count": 12,
   "id": "8f33b300",
   "metadata": {},
   "outputs": [
    {
     "data": {
      "text/html": [
       "<div>\n",
       "<style scoped>\n",
       "    .dataframe tbody tr th:only-of-type {\n",
       "        vertical-align: middle;\n",
       "    }\n",
       "\n",
       "    .dataframe tbody tr th {\n",
       "        vertical-align: top;\n",
       "    }\n",
       "\n",
       "    .dataframe thead th {\n",
       "        text-align: right;\n",
       "    }\n",
       "</style>\n",
       "<table border=\"1\" class=\"dataframe\">\n",
       "  <thead>\n",
       "    <tr style=\"text-align: right;\">\n",
       "      <th></th>\n",
       "      <th>Date</th>\n",
       "      <th>Location</th>\n",
       "      <th>MinTemp</th>\n",
       "      <th>MaxTemp</th>\n",
       "      <th>Rainfall</th>\n",
       "      <th>Evaporation</th>\n",
       "      <th>Sunshine</th>\n",
       "      <th>WindGustDir</th>\n",
       "      <th>WindGustSpeed</th>\n",
       "      <th>WindDir9am</th>\n",
       "      <th>WindDir3pm</th>\n",
       "      <th>WindSpeed9am</th>\n",
       "      <th>WindSpeed3pm</th>\n",
       "      <th>Humidity9am</th>\n",
       "      <th>Humidity3pm</th>\n",
       "      <th>Pressure9am</th>\n",
       "      <th>Pressure3pm</th>\n",
       "      <th>Cloud9am</th>\n",
       "      <th>Cloud3pm</th>\n",
       "      <th>Temp9am</th>\n",
       "      <th>Temp3pm</th>\n",
       "      <th>RainToday</th>\n",
       "      <th>RainTomorrow</th>\n",
       "      <th>WindGustSpeedCat</th>\n",
       "      <th>Humidity9amCat</th>\n",
       "      <th>Humidity3pmCat</th>\n",
       "    </tr>\n",
       "  </thead>\n",
       "  <tbody>\n",
       "    <tr>\n",
       "      <th>0</th>\n",
       "      <td>2008-12-01</td>\n",
       "      <td>Albury</td>\n",
       "      <td>13.4</td>\n",
       "      <td>22.9</td>\n",
       "      <td>0.6</td>\n",
       "      <td>5.469824</td>\n",
       "      <td>7.624853</td>\n",
       "      <td>W</td>\n",
       "      <td>44.0</td>\n",
       "      <td>W</td>\n",
       "      <td>WNW</td>\n",
       "      <td>20.0</td>\n",
       "      <td>24.0</td>\n",
       "      <td>71.0</td>\n",
       "      <td>22.0</td>\n",
       "      <td>1007.7</td>\n",
       "      <td>1007.1</td>\n",
       "      <td>8.000000</td>\n",
       "      <td>4.503167</td>\n",
       "      <td>16.9</td>\n",
       "      <td>21.8</td>\n",
       "      <td>No</td>\n",
       "      <td>No</td>\n",
       "      <td>1.40-50</td>\n",
       "      <td>1.&gt;60</td>\n",
       "      <td>0.&lt;=60</td>\n",
       "    </tr>\n",
       "    <tr>\n",
       "      <th>1</th>\n",
       "      <td>2008-12-02</td>\n",
       "      <td>Albury</td>\n",
       "      <td>7.4</td>\n",
       "      <td>25.1</td>\n",
       "      <td>0.0</td>\n",
       "      <td>5.469824</td>\n",
       "      <td>7.624853</td>\n",
       "      <td>WNW</td>\n",
       "      <td>44.0</td>\n",
       "      <td>NNW</td>\n",
       "      <td>WSW</td>\n",
       "      <td>4.0</td>\n",
       "      <td>22.0</td>\n",
       "      <td>44.0</td>\n",
       "      <td>25.0</td>\n",
       "      <td>1010.6</td>\n",
       "      <td>1007.8</td>\n",
       "      <td>4.437189</td>\n",
       "      <td>4.503167</td>\n",
       "      <td>17.2</td>\n",
       "      <td>24.3</td>\n",
       "      <td>No</td>\n",
       "      <td>No</td>\n",
       "      <td>1.40-50</td>\n",
       "      <td>0.&lt;=60</td>\n",
       "      <td>0.&lt;=60</td>\n",
       "    </tr>\n",
       "    <tr>\n",
       "      <th>2</th>\n",
       "      <td>2008-12-03</td>\n",
       "      <td>Albury</td>\n",
       "      <td>12.9</td>\n",
       "      <td>25.7</td>\n",
       "      <td>0.0</td>\n",
       "      <td>5.469824</td>\n",
       "      <td>7.624853</td>\n",
       "      <td>WSW</td>\n",
       "      <td>46.0</td>\n",
       "      <td>W</td>\n",
       "      <td>WSW</td>\n",
       "      <td>19.0</td>\n",
       "      <td>26.0</td>\n",
       "      <td>38.0</td>\n",
       "      <td>30.0</td>\n",
       "      <td>1007.6</td>\n",
       "      <td>1008.7</td>\n",
       "      <td>4.437189</td>\n",
       "      <td>2.000000</td>\n",
       "      <td>21.0</td>\n",
       "      <td>23.2</td>\n",
       "      <td>No</td>\n",
       "      <td>No</td>\n",
       "      <td>1.40-50</td>\n",
       "      <td>0.&lt;=60</td>\n",
       "      <td>0.&lt;=60</td>\n",
       "    </tr>\n",
       "    <tr>\n",
       "      <th>3</th>\n",
       "      <td>2008-12-04</td>\n",
       "      <td>Albury</td>\n",
       "      <td>9.2</td>\n",
       "      <td>28.0</td>\n",
       "      <td>0.0</td>\n",
       "      <td>5.469824</td>\n",
       "      <td>7.624853</td>\n",
       "      <td>NE</td>\n",
       "      <td>24.0</td>\n",
       "      <td>SE</td>\n",
       "      <td>E</td>\n",
       "      <td>11.0</td>\n",
       "      <td>9.0</td>\n",
       "      <td>45.0</td>\n",
       "      <td>16.0</td>\n",
       "      <td>1017.6</td>\n",
       "      <td>1012.8</td>\n",
       "      <td>4.437189</td>\n",
       "      <td>4.503167</td>\n",
       "      <td>18.1</td>\n",
       "      <td>26.5</td>\n",
       "      <td>No</td>\n",
       "      <td>No</td>\n",
       "      <td>0.&lt;=40</td>\n",
       "      <td>0.&lt;=60</td>\n",
       "      <td>0.&lt;=60</td>\n",
       "    </tr>\n",
       "    <tr>\n",
       "      <th>4</th>\n",
       "      <td>2008-12-05</td>\n",
       "      <td>Albury</td>\n",
       "      <td>17.5</td>\n",
       "      <td>32.3</td>\n",
       "      <td>1.0</td>\n",
       "      <td>5.469824</td>\n",
       "      <td>7.624853</td>\n",
       "      <td>W</td>\n",
       "      <td>41.0</td>\n",
       "      <td>ENE</td>\n",
       "      <td>NW</td>\n",
       "      <td>7.0</td>\n",
       "      <td>20.0</td>\n",
       "      <td>82.0</td>\n",
       "      <td>33.0</td>\n",
       "      <td>1010.8</td>\n",
       "      <td>1006.0</td>\n",
       "      <td>7.000000</td>\n",
       "      <td>8.000000</td>\n",
       "      <td>17.8</td>\n",
       "      <td>29.7</td>\n",
       "      <td>No</td>\n",
       "      <td>No</td>\n",
       "      <td>1.40-50</td>\n",
       "      <td>1.&gt;60</td>\n",
       "      <td>0.&lt;=60</td>\n",
       "    </tr>\n",
       "    <tr>\n",
       "      <th>...</th>\n",
       "      <td>...</td>\n",
       "      <td>...</td>\n",
       "      <td>...</td>\n",
       "      <td>...</td>\n",
       "      <td>...</td>\n",
       "      <td>...</td>\n",
       "      <td>...</td>\n",
       "      <td>...</td>\n",
       "      <td>...</td>\n",
       "      <td>...</td>\n",
       "      <td>...</td>\n",
       "      <td>...</td>\n",
       "      <td>...</td>\n",
       "      <td>...</td>\n",
       "      <td>...</td>\n",
       "      <td>...</td>\n",
       "      <td>...</td>\n",
       "      <td>...</td>\n",
       "      <td>...</td>\n",
       "      <td>...</td>\n",
       "      <td>...</td>\n",
       "      <td>...</td>\n",
       "      <td>...</td>\n",
       "      <td>...</td>\n",
       "      <td>...</td>\n",
       "      <td>...</td>\n",
       "    </tr>\n",
       "    <tr>\n",
       "      <th>145454</th>\n",
       "      <td>2017-06-20</td>\n",
       "      <td>Uluru</td>\n",
       "      <td>3.5</td>\n",
       "      <td>21.8</td>\n",
       "      <td>0.0</td>\n",
       "      <td>5.469824</td>\n",
       "      <td>7.624853</td>\n",
       "      <td>E</td>\n",
       "      <td>31.0</td>\n",
       "      <td>ESE</td>\n",
       "      <td>E</td>\n",
       "      <td>15.0</td>\n",
       "      <td>13.0</td>\n",
       "      <td>59.0</td>\n",
       "      <td>27.0</td>\n",
       "      <td>1024.7</td>\n",
       "      <td>1021.2</td>\n",
       "      <td>4.437189</td>\n",
       "      <td>4.503167</td>\n",
       "      <td>9.4</td>\n",
       "      <td>20.9</td>\n",
       "      <td>No</td>\n",
       "      <td>No</td>\n",
       "      <td>0.&lt;=40</td>\n",
       "      <td>0.&lt;=60</td>\n",
       "      <td>0.&lt;=60</td>\n",
       "    </tr>\n",
       "    <tr>\n",
       "      <th>145455</th>\n",
       "      <td>2017-06-21</td>\n",
       "      <td>Uluru</td>\n",
       "      <td>2.8</td>\n",
       "      <td>23.4</td>\n",
       "      <td>0.0</td>\n",
       "      <td>5.469824</td>\n",
       "      <td>7.624853</td>\n",
       "      <td>E</td>\n",
       "      <td>31.0</td>\n",
       "      <td>SE</td>\n",
       "      <td>ENE</td>\n",
       "      <td>13.0</td>\n",
       "      <td>11.0</td>\n",
       "      <td>51.0</td>\n",
       "      <td>24.0</td>\n",
       "      <td>1024.6</td>\n",
       "      <td>1020.3</td>\n",
       "      <td>4.437189</td>\n",
       "      <td>4.503167</td>\n",
       "      <td>10.1</td>\n",
       "      <td>22.4</td>\n",
       "      <td>No</td>\n",
       "      <td>No</td>\n",
       "      <td>0.&lt;=40</td>\n",
       "      <td>0.&lt;=60</td>\n",
       "      <td>0.&lt;=60</td>\n",
       "    </tr>\n",
       "    <tr>\n",
       "      <th>145456</th>\n",
       "      <td>2017-06-22</td>\n",
       "      <td>Uluru</td>\n",
       "      <td>3.6</td>\n",
       "      <td>25.3</td>\n",
       "      <td>0.0</td>\n",
       "      <td>5.469824</td>\n",
       "      <td>7.624853</td>\n",
       "      <td>NNW</td>\n",
       "      <td>22.0</td>\n",
       "      <td>SE</td>\n",
       "      <td>N</td>\n",
       "      <td>13.0</td>\n",
       "      <td>9.0</td>\n",
       "      <td>56.0</td>\n",
       "      <td>21.0</td>\n",
       "      <td>1023.5</td>\n",
       "      <td>1019.1</td>\n",
       "      <td>4.437189</td>\n",
       "      <td>4.503167</td>\n",
       "      <td>10.9</td>\n",
       "      <td>24.5</td>\n",
       "      <td>No</td>\n",
       "      <td>No</td>\n",
       "      <td>0.&lt;=40</td>\n",
       "      <td>0.&lt;=60</td>\n",
       "      <td>0.&lt;=60</td>\n",
       "    </tr>\n",
       "    <tr>\n",
       "      <th>145457</th>\n",
       "      <td>2017-06-23</td>\n",
       "      <td>Uluru</td>\n",
       "      <td>5.4</td>\n",
       "      <td>26.9</td>\n",
       "      <td>0.0</td>\n",
       "      <td>5.469824</td>\n",
       "      <td>7.624853</td>\n",
       "      <td>N</td>\n",
       "      <td>37.0</td>\n",
       "      <td>SE</td>\n",
       "      <td>WNW</td>\n",
       "      <td>9.0</td>\n",
       "      <td>9.0</td>\n",
       "      <td>53.0</td>\n",
       "      <td>24.0</td>\n",
       "      <td>1021.0</td>\n",
       "      <td>1016.8</td>\n",
       "      <td>4.437189</td>\n",
       "      <td>4.503167</td>\n",
       "      <td>12.5</td>\n",
       "      <td>26.1</td>\n",
       "      <td>No</td>\n",
       "      <td>No</td>\n",
       "      <td>0.&lt;=40</td>\n",
       "      <td>0.&lt;=60</td>\n",
       "      <td>0.&lt;=60</td>\n",
       "    </tr>\n",
       "    <tr>\n",
       "      <th>145458</th>\n",
       "      <td>2017-06-24</td>\n",
       "      <td>Uluru</td>\n",
       "      <td>7.8</td>\n",
       "      <td>27.0</td>\n",
       "      <td>0.0</td>\n",
       "      <td>5.469824</td>\n",
       "      <td>7.624853</td>\n",
       "      <td>SE</td>\n",
       "      <td>28.0</td>\n",
       "      <td>SSE</td>\n",
       "      <td>N</td>\n",
       "      <td>13.0</td>\n",
       "      <td>7.0</td>\n",
       "      <td>51.0</td>\n",
       "      <td>24.0</td>\n",
       "      <td>1019.4</td>\n",
       "      <td>1016.5</td>\n",
       "      <td>3.000000</td>\n",
       "      <td>2.000000</td>\n",
       "      <td>15.1</td>\n",
       "      <td>26.0</td>\n",
       "      <td>No</td>\n",
       "      <td>No</td>\n",
       "      <td>0.&lt;=40</td>\n",
       "      <td>0.&lt;=60</td>\n",
       "      <td>0.&lt;=60</td>\n",
       "    </tr>\n",
       "  </tbody>\n",
       "</table>\n",
       "<p>142193 rows × 26 columns</p>\n",
       "</div>"
      ],
      "text/plain": [
       "              Date Location  MinTemp  MaxTemp  Rainfall  Evaporation  \\\n",
       "0       2008-12-01   Albury     13.4     22.9       0.6     5.469824   \n",
       "1       2008-12-02   Albury      7.4     25.1       0.0     5.469824   \n",
       "2       2008-12-03   Albury     12.9     25.7       0.0     5.469824   \n",
       "3       2008-12-04   Albury      9.2     28.0       0.0     5.469824   \n",
       "4       2008-12-05   Albury     17.5     32.3       1.0     5.469824   \n",
       "...            ...      ...      ...      ...       ...          ...   \n",
       "145454  2017-06-20    Uluru      3.5     21.8       0.0     5.469824   \n",
       "145455  2017-06-21    Uluru      2.8     23.4       0.0     5.469824   \n",
       "145456  2017-06-22    Uluru      3.6     25.3       0.0     5.469824   \n",
       "145457  2017-06-23    Uluru      5.4     26.9       0.0     5.469824   \n",
       "145458  2017-06-24    Uluru      7.8     27.0       0.0     5.469824   \n",
       "\n",
       "        Sunshine WindGustDir  WindGustSpeed WindDir9am WindDir3pm  \\\n",
       "0       7.624853           W           44.0          W        WNW   \n",
       "1       7.624853         WNW           44.0        NNW        WSW   \n",
       "2       7.624853         WSW           46.0          W        WSW   \n",
       "3       7.624853          NE           24.0         SE          E   \n",
       "4       7.624853           W           41.0        ENE         NW   \n",
       "...          ...         ...            ...        ...        ...   \n",
       "145454  7.624853           E           31.0        ESE          E   \n",
       "145455  7.624853           E           31.0         SE        ENE   \n",
       "145456  7.624853         NNW           22.0         SE          N   \n",
       "145457  7.624853           N           37.0         SE        WNW   \n",
       "145458  7.624853          SE           28.0        SSE          N   \n",
       "\n",
       "        WindSpeed9am  WindSpeed3pm  Humidity9am  Humidity3pm  Pressure9am  \\\n",
       "0               20.0          24.0         71.0         22.0       1007.7   \n",
       "1                4.0          22.0         44.0         25.0       1010.6   \n",
       "2               19.0          26.0         38.0         30.0       1007.6   \n",
       "3               11.0           9.0         45.0         16.0       1017.6   \n",
       "4                7.0          20.0         82.0         33.0       1010.8   \n",
       "...              ...           ...          ...          ...          ...   \n",
       "145454          15.0          13.0         59.0         27.0       1024.7   \n",
       "145455          13.0          11.0         51.0         24.0       1024.6   \n",
       "145456          13.0           9.0         56.0         21.0       1023.5   \n",
       "145457           9.0           9.0         53.0         24.0       1021.0   \n",
       "145458          13.0           7.0         51.0         24.0       1019.4   \n",
       "\n",
       "        Pressure3pm  Cloud9am  Cloud3pm  Temp9am  Temp3pm RainToday  \\\n",
       "0            1007.1  8.000000  4.503167     16.9     21.8        No   \n",
       "1            1007.8  4.437189  4.503167     17.2     24.3        No   \n",
       "2            1008.7  4.437189  2.000000     21.0     23.2        No   \n",
       "3            1012.8  4.437189  4.503167     18.1     26.5        No   \n",
       "4            1006.0  7.000000  8.000000     17.8     29.7        No   \n",
       "...             ...       ...       ...      ...      ...       ...   \n",
       "145454       1021.2  4.437189  4.503167      9.4     20.9        No   \n",
       "145455       1020.3  4.437189  4.503167     10.1     22.4        No   \n",
       "145456       1019.1  4.437189  4.503167     10.9     24.5        No   \n",
       "145457       1016.8  4.437189  4.503167     12.5     26.1        No   \n",
       "145458       1016.5  3.000000  2.000000     15.1     26.0        No   \n",
       "\n",
       "       RainTomorrow WindGustSpeedCat Humidity9amCat Humidity3pmCat  \n",
       "0                No          1.40-50          1.>60         0.<=60  \n",
       "1                No          1.40-50         0.<=60         0.<=60  \n",
       "2                No          1.40-50         0.<=60         0.<=60  \n",
       "3                No           0.<=40         0.<=60         0.<=60  \n",
       "4                No          1.40-50          1.>60         0.<=60  \n",
       "...             ...              ...            ...            ...  \n",
       "145454           No           0.<=40         0.<=60         0.<=60  \n",
       "145455           No           0.<=40         0.<=60         0.<=60  \n",
       "145456           No           0.<=40         0.<=60         0.<=60  \n",
       "145457           No           0.<=40         0.<=60         0.<=60  \n",
       "145458           No           0.<=40         0.<=60         0.<=60  \n",
       "\n",
       "[142193 rows x 26 columns]"
      ]
     },
     "execution_count": 12,
     "metadata": {},
     "output_type": "execute_result"
    }
   ],
   "source": [
    "# Set Pandas options to display more columns\n",
    "pd.options.display.max_columns=50\n",
    "\n",
    "# Read in the weather data csv\n",
    "df=pd.read_csv('./data/weatherAUS.csv') # , encoding='utf-8')\n",
    "\n",
    "# Drop records where target RainTomorrow=NaN\n",
    "df=df[pd.isnull(df['RainTomorrow'])==False]\n",
    "\n",
    "# For other columns with missing values, fill them in with column mean\n",
    "df=df.fillna(df.mean())\n",
    "\n",
    "# Create bands for variables that we want to use in the model\n",
    "df['WindGustSpeedCat']=df['WindGustSpeed'].apply(lambda x: '0.<=40'   if x<=40 else\n",
    "                                                            '1.40-50' if 40<x<=50 else '2.>50')\n",
    "df['Humidity9amCat']=df['Humidity9am'].apply(lambda x: '1.>60' if x>60 else '0.<=60')\n",
    "df['Humidity3pmCat']=df['Humidity3pm'].apply(lambda x: '1.>60' if x>60 else '0.<=60')\n",
    "\n",
    "# Show a snaphsot of data\n",
    "df"
   ]
  },
  {
   "cell_type": "code",
   "execution_count": 15,
   "id": "fd273604",
   "metadata": {},
   "outputs": [
    {
     "data": {
      "text/plain": [
       "0.<=60    0.306583\n",
       "1.>60     0.693417\n",
       "Name: Humidity9amCat, dtype: float64"
      ]
     },
     "execution_count": 15,
     "metadata": {},
     "output_type": "execute_result"
    }
   ],
   "source": [
    "df['Humidity9amCat'].value_counts(normalize=True).sort_index()"
   ]
  },
  {
   "cell_type": "markdown",
   "id": "644e1a9f",
   "metadata": {},
   "source": [
    "## Bayesian Belief Networks (BBN) and Directed Acyclic Graphs (DAG)\n",
    "<img src = 'https://miro.medium.com/max/875/1*bDfiBVnFaPeQzumj1mZN0w.png' width=300 height=300>\n",
    "<img src='https://miro.medium.com/max/875/1*rzutIc-oHgiOc4pIsYU6HQ.png'>"
   ]
  },
  {
   "cell_type": "code",
   "execution_count": 16,
   "id": "344c1236",
   "metadata": {},
   "outputs": [],
   "source": [
    "# This function helps to calculate probability distribution, which goes into BBN (note, can handle up to 2 parents)\n",
    "def probs(data, child, parent1=None, parent2=None):\n",
    "    if parent1==None:\n",
    "        # Calculate probabilities\n",
    "        prob=pd.crosstab(data[child], 'Empty', margins=False, normalize='columns').sort_index().to_numpy().reshape(-1).tolist()\n",
    "    elif parent1!=None:\n",
    "            # Check if child node has 1 parent or 2 parents\n",
    "            if parent2==None:\n",
    "                # Caclucate probabilities\n",
    "                prob=pd.crosstab(data[parent1],data[child], margins=False, normalize='index').sort_index().to_numpy().reshape(-1).tolist()\n",
    "            else:    \n",
    "                # Caclucate probabilities\n",
    "                prob=pd.crosstab([data[parent1],data[parent2]],data[child], margins=False, normalize='index').sort_index().to_numpy().reshape(-1).tolist()\n",
    "    else: print(\"Error in Probability Frequency Calculations\")\n",
    "    return prob  "
   ]
  },
  {
   "cell_type": "code",
   "execution_count": 24,
   "id": "8d3732e7",
   "metadata": {},
   "outputs": [
    {
     "data": {
      "text/plain": [
       "[0.30658330578861126, 0.6934166942113887]"
      ]
     },
     "execution_count": 24,
     "metadata": {},
     "output_type": "execute_result"
    },
    {
     "data": {
      "text/plain": [
       "[0.928269945405331, 0.071730054594669, 0.5576020040771205, 0.44239799592287954]"
      ]
     },
     "execution_count": 24,
     "metadata": {},
     "output_type": "execute_result"
    },
    {
     "data": {
      "text/plain": [
       "[0.5865970898708094, 0.24039861315254618, 0.1730042969766444]"
      ]
     },
     "execution_count": 24,
     "metadata": {},
     "output_type": "execute_result"
    },
    {
     "data": {
      "text/plain": [
       "[0.9231423408100351,\n",
       " 0.07685765918996491,\n",
       " 0.8907156673114119,\n",
       " 0.109284332688588,\n",
       " 0.7600840888188148,\n",
       " 0.23991591118118513,\n",
       " 0.6425022248590923,\n",
       " 0.35749777514090775,\n",
       " 0.4916834919719258,\n",
       " 0.5083165080280743,\n",
       " 0.3218170185540627,\n",
       " 0.6781829814459372]"
      ]
     },
     "execution_count": 24,
     "metadata": {},
     "output_type": "execute_result"
    }
   ],
   "source": [
    "probs(df, child='Humidity9amCat')\n",
    "probs(df, child='Humidity3pmCat', parent1='Humidity9amCat')\n",
    "probs(df, child='WindGustSpeedCat')\n",
    "probs(df, child='RainTomorrow', parent1='Humidity3pmCat', parent2='WindGustSpeedCat')"
   ]
  },
  {
   "cell_type": "code",
   "execution_count": 21,
   "id": "7168ee85",
   "metadata": {},
   "outputs": [],
   "source": [
    "# Create nodes by manually typing in probabilities\n",
    "H9am = BbnNode(Variable(0, 'H9am', ['<=60', '>60']), [0.30658, 0.69342])\n",
    "H3pm = BbnNode(Variable(1, 'H3pm', ['<=60', '>60']), [0.92827, 0.07173, 0.55760, 0.44240])\n",
    "W = BbnNode(Variable(2, 'W', ['<=40', '40-50', '>50']), [0.58660, 0.24040, 0.17300])\n",
    "RT = BbnNode(Variable(3, 'RT', ['No', 'Yes']), [0.92314, 0.07686, \n",
    "                                                0.89072, 0.10928, \n",
    "                                                0.76008, 0.23992, \n",
    "                                                0.64250, 0.35750, \n",
    "                                                0.49168, 0.50832, \n",
    "                                                0.32182, 0.67818])"
   ]
  },
  {
   "cell_type": "code",
   "execution_count": 22,
   "id": "32e84852",
   "metadata": {},
   "outputs": [],
   "source": [
    "# Create nodes by using our earlier function to automatically calculate probabilities\n",
    "H9am = BbnNode(Variable(0, 'H9am', ['<=60', '>60']), probs(df, child='Humidity9amCat'))\n",
    "H3pm = BbnNode(Variable(1, 'H3pm', ['<=60', '>60']), probs(df, child='Humidity3pmCat', parent1='Humidity9amCat'))\n",
    "W = BbnNode(Variable(2, 'W', ['<=40', '40-50', '>50']), probs(df, child='WindGustSpeedCat'))\n",
    "RT = BbnNode(Variable(3, 'RT', ['No', 'Yes']), probs(df, child='RainTomorrow', parent1='Humidity3pmCat', parent2='WindGustSpeedCat'))"
   ]
  },
  {
   "cell_type": "code",
   "execution_count": 25,
   "id": "37a43949",
   "metadata": {},
   "outputs": [],
   "source": [
    "# Create Network\n",
    "bbn = Bbn() \\\n",
    "    .add_node(H9am) \\\n",
    "    .add_node(H3pm) \\\n",
    "    .add_node(W) \\\n",
    "    .add_node(RT) \\\n",
    "    .add_edge(Edge(H9am, H3pm, EdgeType.DIRECTED)) \\\n",
    "    .add_edge(Edge(H3pm, RT, EdgeType.DIRECTED)) \\\n",
    "    .add_edge(Edge(W, RT, EdgeType.DIRECTED))\n",
    "\n",
    "# Convert the BBN to a join tree\n",
    "join_tree = InferenceController.apply(bbn)"
   ]
  },
  {
   "cell_type": "code",
   "execution_count": 27,
   "id": "a8ec3731",
   "metadata": {},
   "outputs": [
    {
     "data": {
      "text/plain": [
       "(-1.32, 1.32, -1.48, 2.48)"
      ]
     },
     "execution_count": 27,
     "metadata": {},
     "output_type": "execute_result"
    },
    {
     "data": {
      "image/png": "[encoded data removed]",
      "text/plain": [
       "<Figure size 432x288 with 1 Axes>"
      ]
     },
     "metadata": {},
     "output_type": "display_data"
    }
   ],
   "source": [
    "# Set node positions\n",
    "pos = {0: (-1, 2), 1: (-1, 0.5), 2: (1, 0.5), 3: (0, -1)}\n",
    "\n",
    "# Set options for graph looks\n",
    "options = {\n",
    "    \"font_size\": 16,\n",
    "    \"node_size\": 4000,\n",
    "    \"node_color\": \"white\",\n",
    "    \"edgecolors\": \"black\",\n",
    "    \"edge_color\": \"red\",\n",
    "    \"linewidths\": 5,\n",
    "    \"width\": 5,}\n",
    "    \n",
    "# Generate graph\n",
    "n, d = bbn.to_nx_graph()\n",
    "nx.draw(n, with_labels=True, labels=d, pos=pos, **options)\n",
    "\n",
    "# Update margins and print the graph\n",
    "ax = plt.gca()\n",
    "ax.margins(0.10)\n",
    "plt.axis(\"off\")\n",
    "plt.show()"
   ]
  },
  {
   "cell_type": "markdown",
   "id": "6ec7e542",
   "metadata": {},
   "source": [
    "# Using BBN for predictions"
   ]
  },
  {
   "cell_type": "code",
   "execution_count": 28,
   "id": "7a7137ff",
   "metadata": {},
   "outputs": [
    {
     "name": "stdout",
     "output_type": "stream",
     "text": [
      "Node: 1|H3pm|<=60,>60\n",
      "Values:\n",
      "1=<=60|0.67124\n",
      "1=>60|0.32876\n",
      "----------------\n",
      "Node: 0|H9am|<=60,>60\n",
      "Values:\n",
      "0=<=60|0.30658\n",
      "0=>60|0.69342\n",
      "----------------\n",
      "Node: 2|W|<=40,40-50,>50\n",
      "Values:\n",
      "2=<=40|0.58660\n",
      "2=40-50|0.24040\n",
      "2=>50|0.17300\n",
      "----------------\n",
      "Node: 3|RT|No,Yes\n",
      "Values:\n",
      "3=No|0.77655\n",
      "3=Yes|0.22345\n",
      "----------------\n"
     ]
    }
   ],
   "source": [
    "# Define a function for printing marginal probabilities\n",
    "def print_probs():\n",
    "    for node in join_tree.get_bbn_nodes():\n",
    "        potential = join_tree.get_bbn_potential(node)\n",
    "        print(\"Node:\", node)\n",
    "        print(\"Values:\")\n",
    "        print(potential)\n",
    "        print('----------------')\n",
    "        \n",
    "# Use the above function to print marginal probabilities\n",
    "print_probs()"
   ]
  },
  {
   "cell_type": "code",
   "execution_count": 29,
   "id": "d94848ee",
   "metadata": {},
   "outputs": [
    {
     "name": "stdout",
     "output_type": "stream",
     "text": [
      "Node: 1|H3pm|<=60,>60\n",
      "Values:\n",
      "1=<=60|0.55760\n",
      "1=>60|0.44240\n",
      "----------------\n",
      "Node: 0|H9am|<=60,>60\n",
      "Values:\n",
      "0=<=60|0.00000\n",
      "0=>60|1.00000\n",
      "----------------\n",
      "Node: 2|W|<=40,40-50,>50\n",
      "Values:\n",
      "2=<=40|0.58660\n",
      "2=40-50|0.24040\n",
      "2=>50|0.17300\n",
      "----------------\n",
      "Node: 3|RT|No,Yes\n",
      "Values:\n",
      "3=No|0.73833\n",
      "3=Yes|0.26167\n",
      "----------------\n"
     ]
    }
   ],
   "source": [
    "# To add evidence of events that happened so probability distribution can be recalculated\n",
    "def evidence(ev, nod, cat, val):\n",
    "    ev = EvidenceBuilder() \\\n",
    "    .with_node(join_tree.get_bbn_node_by_name(nod)) \\\n",
    "    .with_evidence(cat, val) \\\n",
    "    .build()\n",
    "    join_tree.set_observation(ev)\n",
    "    \n",
    "# Use above function to add evidence\n",
    "evidence('ev1', 'H9am', '>60', 1.0)\n",
    "\n",
    "# Print marginal probabilities\n",
    "print_probs()"
   ]
  },
  {
   "cell_type": "code",
   "execution_count": 30,
   "id": "1ce2b8ea",
   "metadata": {},
   "outputs": [
    {
     "name": "stdout",
     "output_type": "stream",
     "text": [
      "Node: 1|H3pm|<=60,>60\n",
      "Values:\n",
      "1=<=60|0.00000\n",
      "1=>60|1.00000\n",
      "----------------\n",
      "Node: 0|H9am|<=60,>60\n",
      "Values:\n",
      "0=<=60|0.00000\n",
      "0=>60|1.00000\n",
      "----------------\n",
      "Node: 2|W|<=40,40-50,>50\n",
      "Values:\n",
      "2=<=40|0.00000\n",
      "2=40-50|0.00000\n",
      "2=>50|1.00000\n",
      "----------------\n",
      "Node: 3|RT|No,Yes\n",
      "Values:\n",
      "3=No|0.32182\n",
      "3=Yes|0.67818\n",
      "----------------\n"
     ]
    }
   ],
   "source": [
    "# Add more evidence\n",
    "evidence('ev1', 'H3pm', '>60', 1.0)\n",
    "evidence('ev2', 'W', '>50', 1.0)\n",
    "# Print marginal probabilities\n",
    "print_probs()"
   ]
  }
 ],
 "metadata": {
  "kernelspec": {
   "display_name": "Python 3",
   "language": "python",
   "name": "python3"
  },
  "language_info": {
   "codemirror_mode": {
    "name": "ipython",
    "version": 3
   },
   "file_extension": ".py",
   "mimetype": "text/x-python",
   "name": "python",
   "nbconvert_exporter": "python",
   "pygments_lexer": "ipython3",
   "version": "3.8.8"
  }
 },
 "nbformat": 4,
 "nbformat_minor": 5
}
