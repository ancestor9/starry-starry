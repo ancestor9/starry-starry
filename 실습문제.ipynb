{
  "nbformat": 4,
  "nbformat_minor": 0,
  "metadata": {
    "colab": {
      "provenance": []
    },
    "kernelspec": {
      "name": "python3",
      "display_name": "Python 3"
    },
    "language_info": {
      "name": "python"
    }
  },
  "cells": [
    {
      "cell_type": "markdown",
      "source": [
        "# List와 Dictionary로 실습예제 10개 만들기"
      ],
      "metadata": {
        "id": "gt2xdnReSUis"
      }
    },
    {
      "cell_type": "markdown",
      "source": [
        "## 실습예제 1"
      ],
      "metadata": {
        "id": "hO_I0F9OSeED"
      }
    },
    {
      "cell_type": "code",
      "execution_count": 25,
      "metadata": {
        "colab": {
          "base_uri": "https://localhost:8080/"
        },
        "id": "DZFZskLWOEf1",
        "outputId": "429fba31-b26c-4966-9f4c-c65fb5f5df68"
      },
      "outputs": [
        {
          "output_type": "execute_result",
          "data": {
            "text/plain": [
              "['딸기', '딸기', '사과', '수박', '수박', '사과', '사과', '딸기', '수박', '바나나', '바나나']"
            ]
          },
          "metadata": {},
          "execution_count": 25
        }
      ],
      "source": [
        "fruits = ['딸기', '딸기', '사과', '수박', '수박', '사과', '사과', '딸기', '수박', '바나나', '바나나']\n",
        "fruits"
      ]
    },
    {
      "cell_type": "code",
      "source": [
        "d = {}\n",
        "type(d)"
      ],
      "metadata": {
        "colab": {
          "base_uri": "https://localhost:8080/"
        },
        "id": "IvYOcKpHOFht",
        "outputId": "12315179-b594-49c1-8909-1c9cd87cd0f6"
      },
      "execution_count": 26,
      "outputs": [
        {
          "output_type": "execute_result",
          "data": {
            "text/plain": [
              "dict"
            ]
          },
          "metadata": {},
          "execution_count": 26
        }
      ]
    },
    {
      "cell_type": "code",
      "source": [
        "for f in fruits:\n",
        "    # '딸기', '사과', '수박', '수박', '사과', '사과', '딸기', '수박', '바나나', '바나나'를 차례대로 불러\n",
        "    if f in d:            # '딸기'라는 key가 d 딕셔너리에 있으면, 즉 if가 True이면 아래 블럭 수행\n",
        "        d[f] = d[f] + 1   #\n",
        "    else:                 # '딸기'라는 key가 d 딕셔너리에 없으면 False이면 아래 블럭 수행\n",
        "        d[f] = 1          # '딸기'라는 key를 만들고 그 값(value)를 1로 만들어줘\n",
        "\n",
        "    print(d)              #\n",
        "    print('*'*100)"
      ],
      "metadata": {
        "colab": {
          "base_uri": "https://localhost:8080/"
        },
        "id": "T0TblHXZOOsu",
        "outputId": "3357ab49-fe52-44cf-81ad-8eeb7d33504d"
      },
      "execution_count": 31,
      "outputs": [
        {
          "output_type": "stream",
          "name": "stdout",
          "text": [
            "{'딸기': 10, '사과': 9, '수박': 9, '바나나': 6}\n",
            "****************************************************************************************************\n",
            "{'딸기': 11, '사과': 9, '수박': 9, '바나나': 6}\n",
            "****************************************************************************************************\n",
            "{'딸기': 11, '사과': 10, '수박': 9, '바나나': 6}\n",
            "****************************************************************************************************\n",
            "{'딸기': 11, '사과': 10, '수박': 10, '바나나': 6}\n",
            "****************************************************************************************************\n",
            "{'딸기': 11, '사과': 10, '수박': 11, '바나나': 6}\n",
            "****************************************************************************************************\n",
            "{'딸기': 11, '사과': 11, '수박': 11, '바나나': 6}\n",
            "****************************************************************************************************\n",
            "{'딸기': 11, '사과': 12, '수박': 11, '바나나': 6}\n",
            "****************************************************************************************************\n",
            "{'딸기': 12, '사과': 12, '수박': 11, '바나나': 6}\n",
            "****************************************************************************************************\n",
            "{'딸기': 12, '사과': 12, '수박': 12, '바나나': 6}\n",
            "****************************************************************************************************\n",
            "{'딸기': 12, '사과': 12, '수박': 12, '바나나': 7}\n",
            "****************************************************************************************************\n",
            "{'딸기': 12, '사과': 12, '수박': 12, '바나나': 8}\n",
            "****************************************************************************************************\n"
          ]
        }
      ]
    },
    {
      "cell_type": "code",
      "source": [
        "print(d)"
      ],
      "metadata": {
        "colab": {
          "base_uri": "https://localhost:8080/"
        },
        "id": "PX033esiOVMU",
        "outputId": "eac3c940-98d9-43fb-8699-1ae57710c7a8"
      },
      "execution_count": 28,
      "outputs": [
        {
          "output_type": "stream",
          "name": "stdout",
          "text": [
            "{'딸기': 3, '사과': 3, '수박': 3, '바나나': 2}\n"
          ]
        }
      ]
    },
    {
      "cell_type": "code",
      "source": [
        "d = {}\n",
        "for f in fruits:\n",
        "    # '딸기', '사과', '수박', '수박', '사과', '사과', '딸기', '수박', '바나나', '바나나'를 차례대로 불러\n",
        "    if f in d:            # '딸기'라는 key가 d 딕셔너리에 있으면, 즉 if가 True이면 아래 블럭 수행\n",
        "        d[f] = d[f] + 1   #\n",
        "    else:                 # '딸기'라는 key가 d 딕셔너리에 없으면 False이면 아래 블럭 수행\n",
        "        d[f] = 1          # '딸기'라는 key를 만들고 그 값(value)를 1로 만들어줘\n",
        "print(d)"
      ],
      "metadata": {
        "colab": {
          "base_uri": "https://localhost:8080/"
        },
        "id": "KXsklSKRO90C",
        "outputId": "47bd243d-e0f9-43e3-9ffc-84e7b79d839f"
      },
      "execution_count": 32,
      "outputs": [
        {
          "output_type": "stream",
          "name": "stdout",
          "text": [
            "{'딸기': 3, '사과': 3, '수박': 3, '바나나': 2}\n"
          ]
        }
      ]
    },
    {
      "cell_type": "markdown",
      "source": [
        "# Class (Class는 함수와 변수의 모음)\n",
        "### Person이라는 Class(붕어빵 틀)를 만들어 보자. say_hello()라는 함수만 넣어서 아주 초 간단하게 만들자"
      ],
      "metadata": {
        "id": "4a2mvbKZSqOr"
      }
    },
    {
      "cell_type": "code",
      "source": [
        "class Person:\n",
        "    def say_hello():\n",
        "        print('안녕! 입학을 축하해! 나는')"
      ],
      "metadata": {
        "id": "Ghhao051SC7T"
      },
      "execution_count": 50,
      "outputs": []
    },
    {
      "cell_type": "markdown",
      "source": [
        "###  Person이라는 Class를 p라는 변수로 객체화"
      ],
      "metadata": {
        "id": "jBsUhevCWkAq"
      }
    },
    {
      "cell_type": "code",
      "source": [
        "p = Person()"
      ],
      "metadata": {
        "id": "Tw1bM1gQTCJS"
      },
      "execution_count": 51,
      "outputs": []
    },
    {
      "cell_type": "markdown",
      "source": [
        "### p의 say_hello()라는 method(함수)를 실행하면 Error 발생"
      ],
      "metadata": {
        "id": "uPBev28gXB8q"
      }
    },
    {
      "cell_type": "code",
      "source": [
        "p.say_hello()"
      ],
      "metadata": {
        "colab": {
          "base_uri": "https://localhost:8080/",
          "height": 172
        },
        "id": "LyN6SxOSWWWA",
        "outputId": "93d86d91-0aff-453f-fc37-542ed3936d1e"
      },
      "execution_count": 52,
      "outputs": [
        {
          "output_type": "error",
          "ename": "TypeError",
          "evalue": "ignored",
          "traceback": [
            "\u001b[0;31m---------------------------------------------------------------------------\u001b[0m",
            "\u001b[0;31mTypeError\u001b[0m                                 Traceback (most recent call last)",
            "\u001b[0;32m<ipython-input-52-b59e5dc06d54>\u001b[0m in \u001b[0;36m<cell line: 1>\u001b[0;34m()\u001b[0m\n\u001b[0;32m----> 1\u001b[0;31m \u001b[0mp\u001b[0m\u001b[0;34m.\u001b[0m\u001b[0msay_hello\u001b[0m\u001b[0;34m(\u001b[0m\u001b[0;34m)\u001b[0m\u001b[0;34m\u001b[0m\u001b[0;34m\u001b[0m\u001b[0m\n\u001b[0m",
            "\u001b[0;31mTypeError\u001b[0m: Person.say_hello() takes 0 positional arguments but 1 was given"
          ]
        }
      ]
    },
    {
      "cell_type": "markdown",
      "source": [
        "### Person.say_hello()에 인자(파라미터)가 없다고하는데 원래 없어 보이지만 p라는 객체가 Class에서 인스턴스(instance)를 만드는 순간 이 것을 인식하기 위해 1 개의 인자를 달라고 하는 것이니 아무거나 인자(attributes)를 넣으면 됨\n",
        "The error message you received, \"TypeError: Person.say_hello() takes 0 positional arguments but 1 was given,\" indicates that you're trying to call the say_hello() method of the Person class with an argument, even though the method definition does not expect any arguments."
      ],
      "metadata": {
        "id": "kJbKJnylU8lj"
      }
    },
    {
      "cell_type": "code",
      "source": [
        "class Person:\n",
        "    def say_hello(아무거나):\n",
        "        print('안녕! 입학을 축하해! 나는')"
      ],
      "metadata": {
        "id": "0yYR6mhcX256"
      },
      "execution_count": 53,
      "outputs": []
    },
    {
      "cell_type": "code",
      "source": [
        "p = Person()\n",
        "p.say_hello()"
      ],
      "metadata": {
        "colab": {
          "base_uri": "https://localhost:8080/"
        },
        "id": "e9cDHl3kX4WB",
        "outputId": "d3c6edce-2907-482c-b324-fee73fb5395d"
      },
      "execution_count": 54,
      "outputs": [
        {
          "output_type": "stream",
          "name": "stdout",
          "text": [
            "안녕!\n"
          ]
        }
      ]
    },
    {
      "cell_type": "markdown",
      "source": [
        "### 'self'라는 인자로 사용을 하자"
      ],
      "metadata": {
        "id": "NBsPcRgsYD9D"
      }
    },
    {
      "cell_type": "code",
      "source": [
        "class Person:\n",
        "    def say_hello(self):    # 아래 오브젝트도 하나의 변수로 만들어줘야 함\n",
        "        print('안녕! 입학을 축하해! 나는')"
      ],
      "metadata": {
        "id": "sFJxb8INTHID"
      },
      "execution_count": 55,
      "outputs": []
    },
    {
      "cell_type": "code",
      "source": [
        "p = Person()\n",
        "p.say_hello()               # instance 생성시 자동으로 파라미터(인자)가 생성된다. 그래서 아래 구문 참조"
      ],
      "metadata": {
        "colab": {
          "base_uri": "https://localhost:8080/"
        },
        "id": "HTyQMcrjUNXE",
        "outputId": "23ab096b-7cec-4565-b35e-98c46b7939e2"
      },
      "execution_count": 56,
      "outputs": [
        {
          "output_type": "stream",
          "name": "stdout",
          "text": [
            "안녕!\n"
          ]
        }
      ]
    },
    {
      "cell_type": "markdown",
      "source": [
        "In the code you provided, the say_hello() method is missing the self parameter, which is a reference to the instance of the class. Without this parameter, the method doesn't know which instance of the class it should operate on.\n",
        "\n",
        "To fix the issue, you should include the **self** parameter in the method definition:"
      ],
      "metadata": {
        "id": "xweE1ppSVMSr"
      }
    },
    {
      "cell_type": "markdown",
      "source": [
        "### 이제는 함수이외 변수를 Class에 넣어보자"
      ],
      "metadata": {
        "id": "hnT6Kc-6V3kz"
      }
    },
    {
      "cell_type": "code",
      "source": [
        "class Person:\n",
        "    name = '조상구'\n",
        "\n",
        "    def say_hello(self):    # 아래 오브젝트도 하나의 변수로 만들어줘야 함\n",
        "        print('안녕! 입학을 축하해! 나는',  self.name)"
      ],
      "metadata": {
        "id": "R5JMDKHkVKMB"
      },
      "execution_count": 63,
      "outputs": []
    },
    {
      "cell_type": "code",
      "source": [
        "p = Person()\n",
        "p.say_hello()"
      ],
      "metadata": {
        "colab": {
          "base_uri": "https://localhost:8080/"
        },
        "id": "21i3WevHVKO7",
        "outputId": "bbd6c065-6e43-4a82-fe73-809d76a05fdc"
      },
      "execution_count": 64,
      "outputs": [
        {
          "output_type": "stream",
          "name": "stdout",
          "text": [
            "안녕! 입학을 축하해! 조상구 와우\n"
          ]
        }
      ]
    },
    {
      "cell_type": "markdown",
      "source": [
        "###  입학생이 40명이면 어떡하지, 일단 3명만"
      ],
      "metadata": {
        "id": "D-eVI4RnZBZi"
      }
    },
    {
      "cell_type": "code",
      "source": [
        "ancestor9 = Person()\n",
        "ancestor8 = Person()\n",
        "ancestor7 = Person()"
      ],
      "metadata": {
        "id": "hrc4SR13VKTC"
      },
      "execution_count": 65,
      "outputs": []
    },
    {
      "cell_type": "code",
      "source": [
        "ancestor9.say_hello()\n",
        "ancestor8.say_hello()\n",
        "ancestor7.say_hello()"
      ],
      "metadata": {
        "colab": {
          "base_uri": "https://localhost:8080/"
        },
        "id": "0GCmB_pNUUqD",
        "outputId": "0af90963-e4e6-4163-a6e1-e9448f454e08"
      },
      "execution_count": 66,
      "outputs": [
        {
          "output_type": "stream",
          "name": "stdout",
          "text": [
            "안녕! 입학을 축하해! 조상구 와우\n",
            "안녕! 입학을 축하해! 조상구 와우\n",
            "안녕! 입학을 축하해! 조상구 와우\n"
          ]
        }
      ]
    },
    {
      "cell_type": "markdown",
      "source": [
        "### 초기화(initialize) __init__ 함수를 사용해서 첫번째 인자로 name을 넣는다\n",
        "- Person이라는 오브젝트를 만들 때 name이라는 인자를 받아서 name이라는 변수안에 그 값을 넣어라"
      ],
      "metadata": {
        "id": "lnxM0kz7aw9p"
      }
    },
    {
      "cell_type": "code",
      "source": [
        "class Person:\n",
        "    def __init__(self, name):\n",
        "        self.name = name\n",
        "\n",
        "    def say_hello(self):    # 아래 오브젝트도 하나의 변수로 만들어줘야 함\n",
        "        print('안녕! 입학을 축하해! 나는',  self.name)"
      ],
      "metadata": {
        "id": "ezpKNSfbas43"
      },
      "execution_count": 78,
      "outputs": []
    },
    {
      "cell_type": "code",
      "source": [
        "ancestor9 = Person('ancestor9')\n",
        "ancestor8 = Person('ancestor8')\n",
        "ancestor7 = Person('ancestor7')"
      ],
      "metadata": {
        "id": "Ve8qsOdobJO3"
      },
      "execution_count": 79,
      "outputs": []
    },
    {
      "cell_type": "code",
      "source": [
        "ancestor9.say_hello()\n",
        "ancestor8.say_hello()\n",
        "ancestor7.say_hello()"
      ],
      "metadata": {
        "colab": {
          "base_uri": "https://localhost:8080/"
        },
        "id": "-LcDZw8pbZn4",
        "outputId": "f15a4511-8b3c-440f-c411-0b09d7d77e78"
      },
      "execution_count": 80,
      "outputs": [
        {
          "output_type": "stream",
          "name": "stdout",
          "text": [
            "안녕! 입학을 축하해! 나는 ancestor9\n",
            "안녕! 입학을 축하해! 나는 ancestor8\n",
            "안녕! 입학을 축하해! 나는 ancestor7\n"
          ]
        }
      ]
    },
    {
      "cell_type": "code",
      "source": [
        "class Person:\n",
        "    def __init__(self, alias):\n",
        "        self.name = alias\n",
        "\n",
        "    def say_hello(self):    # 아래 오브젝트도 하나의 변수로 만들어줘야 함\n",
        "        print('안녕! 입학을 축하해! 나는',  self.name)"
      ],
      "metadata": {
        "id": "6imR3TDvdjMQ"
      },
      "execution_count": 81,
      "outputs": []
    },
    {
      "cell_type": "code",
      "source": [
        "ancestor9 = Person('ancestor9')\n",
        "ancestor8 = Person('ancestor8')\n",
        "ancestor7 = Person('ancestor7')"
      ],
      "metadata": {
        "id": "r5lBkXmodjMV"
      },
      "execution_count": 82,
      "outputs": []
    },
    {
      "cell_type": "code",
      "source": [
        "ancestor9.say_hello()\n",
        "ancestor8.say_hello()\n",
        "ancestor7.say_hello()"
      ],
      "metadata": {
        "colab": {
          "base_uri": "https://localhost:8080/"
        },
        "outputId": "9f757c08-a2e9-45b4-d2c4-e3ef35d35858",
        "id": "gSzamzFudjMV"
      },
      "execution_count": 83,
      "outputs": [
        {
          "output_type": "stream",
          "name": "stdout",
          "text": [
            "안녕! 입학을 축하해! 나는 ancestor9\n",
            "안녕! 입학을 축하해! 나는 ancestor8\n",
            "안녕! 입학을 축하해! 나는 ancestor7\n"
          ]
        }
      ]
    },
    {
      "cell_type": "markdown",
      "source": [
        "### 서로 서로에게 인사를 해보자"
      ],
      "metadata": {
        "id": "Cl6-dGn-crA4"
      }
    },
    {
      "cell_type": "code",
      "source": [
        "class Person:\n",
        "    def __init__(self, name):\n",
        "        self.name = name\n",
        "\n",
        "    def say_hello(self, to_name):    # 아래 오브젝트도 하나의 변수로 만들어줘야 함\n",
        "        print('안녕! 입학을 축하해!', to_name, '나는',  self.name, '라고 해')"
      ],
      "metadata": {
        "id": "RdmW7c3hb2Xy"
      },
      "execution_count": 74,
      "outputs": []
    },
    {
      "cell_type": "code",
      "source": [
        "ancestor9 = Person('ancestor9')\n",
        "ancestor8 = Person('ancestor8')\n",
        "ancestor7 = Person('ancestor7')"
      ],
      "metadata": {
        "id": "p18UGDd7cn9h"
      },
      "execution_count": 76,
      "outputs": []
    },
    {
      "cell_type": "code",
      "source": [
        "ancestor9.say_hello('ancestor8')\n",
        "ancestor8.say_hello('ancestor7')\n",
        "ancestor7.say_hello('ancestor9')"
      ],
      "metadata": {
        "colab": {
          "base_uri": "https://localhost:8080/"
        },
        "id": "-_LoJQRub2bJ",
        "outputId": "4771e8db-a2f0-49bc-b05a-d7980f6b4386"
      },
      "execution_count": 77,
      "outputs": [
        {
          "output_type": "stream",
          "name": "stdout",
          "text": [
            "안녕! 입학을 축하해! ancestor8 나는 ancestor9 라고 해\n",
            "안녕! 입학을 축하해! ancestor7 나는 ancestor8 라고 해\n",
            "안녕! 입학을 축하해! ancestor9 나는 ancestor7 라고 해\n"
          ]
        }
      ]
    },
    {
      "cell_type": "markdown",
      "source": [
        "### 서로 서로에게 인사도 하고 나이도 알아보자"
      ],
      "metadata": {
        "id": "6uv8qi8pdvhQ"
      }
    },
    {
      "cell_type": "code",
      "source": [
        "class Person:\n",
        "    def __init__(self, name, age):\n",
        "        self.name = name\n",
        "        self.age = age\n",
        "\n",
        "    def say_hello(self, to_name):    # 아래 오브젝트도 하나의 변수로 만들어줘야 함\n",
        "        print('안녕! 입학을 축하해!', to_name, '나는',  self.name, '라고 해')\n",
        "\n",
        "    def introduce(self):\n",
        "        print('내 이름은 ' + self.name + '나는' + self.age + '살이야')"
      ],
      "metadata": {
        "id": "6C3OuoFJdvhV"
      },
      "execution_count": 89,
      "outputs": []
    },
    {
      "cell_type": "code",
      "source": [
        "ancestor9 = Person('ancestor9', 9)\n",
        "ancestor8 = Person('ancestor8', 8)\n",
        "ancestor7 = Person('ancestor7', 7)"
      ],
      "metadata": {
        "id": "-gzBN-1bdvhV"
      },
      "execution_count": 90,
      "outputs": []
    },
    {
      "cell_type": "code",
      "source": [
        "ancestor9.say_hello('ancestor8')\n",
        "ancestor8.say_hello('ancestor7')\n",
        "ancestor7.say_hello('ancestor9')"
      ],
      "metadata": {
        "colab": {
          "base_uri": "https://localhost:8080/"
        },
        "outputId": "19008fad-0d59-4423-8226-6724e422bf66",
        "id": "Tmu6buqgdvhV"
      },
      "execution_count": 91,
      "outputs": [
        {
          "output_type": "stream",
          "name": "stdout",
          "text": [
            "안녕! 입학을 축하해! ancestor8 나는 ancestor9 라고 해\n",
            "안녕! 입학을 축하해! ancestor7 나는 ancestor8 라고 해\n",
            "안녕! 입학을 축하해! ancestor9 나는 ancestor7 라고 해\n"
          ]
        }
      ]
    },
    {
      "cell_type": "markdown",
      "source": [
        "###  inroduce 함수에는  인자가 없다"
      ],
      "metadata": {
        "id": "CmMVKU-TfP8A"
      }
    },
    {
      "cell_type": "code",
      "source": [
        "ancestor9.introduce('ancestor8')\n",
        "ancestor8.introduce('ancestor7')\n",
        "ancestor7.introduce('ancestor9')"
      ],
      "metadata": {
        "colab": {
          "base_uri": "https://localhost:8080/",
          "height": 209
        },
        "id": "wH5tdoGYfBz4",
        "outputId": "e93c71b4-a910-4701-f0f6-e3d087c8ca82"
      },
      "execution_count": 94,
      "outputs": [
        {
          "output_type": "error",
          "ename": "TypeError",
          "evalue": "ignored",
          "traceback": [
            "\u001b[0;31m---------------------------------------------------------------------------\u001b[0m",
            "\u001b[0;31mTypeError\u001b[0m                                 Traceback (most recent call last)",
            "\u001b[0;32m<ipython-input-94-3fcae59c4ebe>\u001b[0m in \u001b[0;36m<cell line: 1>\u001b[0;34m()\u001b[0m\n\u001b[0;32m----> 1\u001b[0;31m \u001b[0mancestor9\u001b[0m\u001b[0;34m.\u001b[0m\u001b[0mintroduce\u001b[0m\u001b[0;34m(\u001b[0m\u001b[0;34m'ancestor8'\u001b[0m\u001b[0;34m)\u001b[0m\u001b[0;34m\u001b[0m\u001b[0;34m\u001b[0m\u001b[0m\n\u001b[0m\u001b[1;32m      2\u001b[0m \u001b[0mancestor8\u001b[0m\u001b[0;34m.\u001b[0m\u001b[0mintroduce\u001b[0m\u001b[0;34m(\u001b[0m\u001b[0;34m'ancestor7'\u001b[0m\u001b[0;34m)\u001b[0m\u001b[0;34m\u001b[0m\u001b[0;34m\u001b[0m\u001b[0m\n\u001b[1;32m      3\u001b[0m \u001b[0mancestor7\u001b[0m\u001b[0;34m.\u001b[0m\u001b[0mintroduce\u001b[0m\u001b[0;34m(\u001b[0m\u001b[0;34m'ancestor9'\u001b[0m\u001b[0;34m)\u001b[0m\u001b[0;34m\u001b[0m\u001b[0;34m\u001b[0m\u001b[0m\n",
            "\u001b[0;31mTypeError\u001b[0m: Person.introduce() takes 1 positional argument but 2 were given"
          ]
        }
      ]
    },
    {
      "cell_type": "markdown",
      "source": [
        "###  Why error"
      ],
      "metadata": {
        "id": "o-7aQcoYfH2A"
      }
    },
    {
      "cell_type": "code",
      "source": [
        "ancestor9.introduce()    # 인자가 필요없음\n",
        "ancestor8.introduce()\n",
        "ancestor7.introduce()"
      ],
      "metadata": {
        "colab": {
          "base_uri": "https://localhost:8080/",
          "height": 299
        },
        "id": "FtF6q0xPbhRA",
        "outputId": "eaccdc30-1a07-42e0-db14-6a469fb6e718"
      },
      "execution_count": 95,
      "outputs": [
        {
          "output_type": "error",
          "ename": "TypeError",
          "evalue": "ignored",
          "traceback": [
            "\u001b[0;31m---------------------------------------------------------------------------\u001b[0m",
            "\u001b[0;31mTypeError\u001b[0m                                 Traceback (most recent call last)",
            "\u001b[0;32m<ipython-input-95-d73f7025f14c>\u001b[0m in \u001b[0;36m<cell line: 1>\u001b[0;34m()\u001b[0m\n\u001b[0;32m----> 1\u001b[0;31m \u001b[0mancestor9\u001b[0m\u001b[0;34m.\u001b[0m\u001b[0mintroduce\u001b[0m\u001b[0;34m(\u001b[0m\u001b[0;34m)\u001b[0m    \u001b[0;31m# 인자가 필요없음\u001b[0m\u001b[0;34m\u001b[0m\u001b[0;34m\u001b[0m\u001b[0m\n\u001b[0m\u001b[1;32m      2\u001b[0m \u001b[0mancestor8\u001b[0m\u001b[0;34m.\u001b[0m\u001b[0mintroduce\u001b[0m\u001b[0;34m(\u001b[0m\u001b[0;34m)\u001b[0m\u001b[0;34m\u001b[0m\u001b[0;34m\u001b[0m\u001b[0m\n\u001b[1;32m      3\u001b[0m \u001b[0mancestor7\u001b[0m\u001b[0;34m.\u001b[0m\u001b[0mintroduce\u001b[0m\u001b[0;34m(\u001b[0m\u001b[0;34m)\u001b[0m\u001b[0;34m\u001b[0m\u001b[0;34m\u001b[0m\u001b[0m\n",
            "\u001b[0;32m<ipython-input-89-b04a00f7826a>\u001b[0m in \u001b[0;36mintroduce\u001b[0;34m(self)\u001b[0m\n\u001b[1;32m      8\u001b[0m \u001b[0;34m\u001b[0m\u001b[0m\n\u001b[1;32m      9\u001b[0m     \u001b[0;32mdef\u001b[0m \u001b[0mintroduce\u001b[0m\u001b[0;34m(\u001b[0m\u001b[0mself\u001b[0m\u001b[0;34m)\u001b[0m\u001b[0;34m:\u001b[0m\u001b[0;34m\u001b[0m\u001b[0;34m\u001b[0m\u001b[0m\n\u001b[0;32m---> 10\u001b[0;31m         \u001b[0mprint\u001b[0m\u001b[0;34m(\u001b[0m\u001b[0;34m'내 이름은 '\u001b[0m \u001b[0;34m+\u001b[0m \u001b[0mself\u001b[0m\u001b[0;34m.\u001b[0m\u001b[0mname\u001b[0m \u001b[0;34m+\u001b[0m \u001b[0;34m'나는'\u001b[0m \u001b[0;34m+\u001b[0m \u001b[0mself\u001b[0m\u001b[0;34m.\u001b[0m\u001b[0mage\u001b[0m \u001b[0;34m+\u001b[0m \u001b[0;34m'살이야'\u001b[0m\u001b[0;34m)\u001b[0m\u001b[0;34m\u001b[0m\u001b[0;34m\u001b[0m\u001b[0m\n\u001b[0m",
            "\u001b[0;31mTypeError\u001b[0m: can only concatenate str (not \"int\") to str"
          ]
        }
      ]
    },
    {
      "cell_type": "code",
      "source": [
        "class Person:\n",
        "    def __init__(self, name, age):\n",
        "        self.name = name\n",
        "        self.age = age\n",
        "\n",
        "    def say_hello(self, to_name):    # 아래 오브젝트도 하나의 변수로 만들어줘야 함\n",
        "        print('안녕! 입학을 축하해!', to_name, '나는',  self.name, '라고 해')\n",
        "\n",
        "    def introduce(self):\n",
        "        print('내 이름은 ' + self.name + ' \\n' + '내 나이는  ' + str(self.age) + ' 살이야')"
      ],
      "metadata": {
        "id": "pCiLFnGYecjf"
      },
      "execution_count": 118,
      "outputs": []
    },
    {
      "cell_type": "code",
      "source": [
        "ancestor9 = Person('ancestor9', 9)\n",
        "ancestor8 = Person('ancestor8', 8)\n",
        "ancestor7 = Person('ancestor7', 7)"
      ],
      "metadata": {
        "id": "T4YLpZ-Hfbl3"
      },
      "execution_count": 119,
      "outputs": []
    },
    {
      "cell_type": "code",
      "source": [
        "ancestor9.say_hello('ancestor8')\n",
        "ancestor8.say_hello('ancestor7')\n",
        "ancestor7.say_hello('ancestor9')"
      ],
      "metadata": {
        "colab": {
          "base_uri": "https://localhost:8080/"
        },
        "outputId": "b2f690e8-74b1-4e6c-f9da-36d081906758",
        "id": "INL_lS88fbl7"
      },
      "execution_count": 120,
      "outputs": [
        {
          "output_type": "stream",
          "name": "stdout",
          "text": [
            "안녕! 입학을 축하해! ancestor8 나는 ancestor9 라고 해\n",
            "안녕! 입학을 축하해! ancestor7 나는 ancestor8 라고 해\n",
            "안녕! 입학을 축하해! ancestor9 나는 ancestor7 라고 해\n"
          ]
        }
      ]
    },
    {
      "cell_type": "code",
      "source": [
        "ancestor9.introduce()    # 인자가 필요없음\n",
        "ancestor8.introduce()\n",
        "ancestor7.introduce()"
      ],
      "metadata": {
        "colab": {
          "base_uri": "https://localhost:8080/"
        },
        "id": "NzCEhYesfdDG",
        "outputId": "6e21a5ed-b0de-4576-89eb-c880721c0d6b"
      },
      "execution_count": 121,
      "outputs": [
        {
          "output_type": "stream",
          "name": "stdout",
          "text": [
            "내 이름은 ancestor9 \n",
            "내 나이는  9 살이야\n",
            "내 이름은 ancestor8 \n",
            "내 나이는  8 살이야\n",
            "내 이름은 ancestor7 \n",
            "내 나이는  7 살이야\n"
          ]
        }
      ]
    },
    {
      "cell_type": "markdown",
      "source": [
        "### 상속(Inheritance)을 만들어 보자. 즉 경찰과 프로그래머"
      ],
      "metadata": {
        "id": "GfdVHPWygBN4"
      }
    },
    {
      "cell_type": "code",
      "source": [
        "class Police(Person):\n",
        "\n",
        "    def speak_Turkish(self, to_arrest):\n",
        "        print('넌 체포되었다, ' + to_arrest)"
      ],
      "metadata": {
        "id": "D_ahxaUYfgYW"
      },
      "execution_count": 122,
      "outputs": []
    },
    {
      "cell_type": "markdown",
      "source": [
        "### class Police(Person)의 의미, 상속의 의미는 아래 코드의 의미, 너무 길어"
      ],
      "metadata": {
        "id": "1G4MH_9fkR13"
      }
    },
    {
      "cell_type": "code",
      "source": [
        "class Person:\n",
        "\n",
        "    def __init__(self, name, age):\n",
        "        self.name = name\n",
        "        self.age = age\n",
        "\n",
        "    def say_hello(self, to_name):    # 아래 오브젝트도 하나의 변수로 만들어줘야 함\n",
        "        print('안녕! 입학을 축하해!', to_name, '나는',  self.name, '라고 해')\n",
        "\n",
        "    def introduce(self):\n",
        "        print('내 이름은 ' + self.name + ' \\n' + '내 나이는  ' + str(self.age) + ' 살이야')\n",
        "\n",
        "    def arrest(self, to_arrest):\n",
        "        print('넌 체포되었다, ' + to_arrest)"
      ],
      "metadata": {
        "id": "joP02a76iiEj"
      },
      "execution_count": null,
      "outputs": []
    },
    {
      "cell_type": "markdown",
      "source": [
        "###  상속을 사용하면"
      ],
      "metadata": {
        "id": "Wv6q0UUMklI2"
      }
    },
    {
      "cell_type": "code",
      "source": [
        "class Police(Person):\n",
        "    def arrest(self, to_arrest):\n",
        "        print('넌 체포되었다, ' + to_arrest)\n",
        "\n",
        "class Progammer(Person):\n",
        "    def code(self, to_program):\n",
        "        print('만들어볼까, 요 것을 ' + to_program)"
      ],
      "metadata": {
        "id": "8nGPiUe9is0v"
      },
      "execution_count": 126,
      "outputs": []
    },
    {
      "cell_type": "code",
      "source": [
        "ancestor9 = Person('ancestor9', 9)\n",
        "ancestor8 = Police('ancestor8', 8)\n",
        "ancestor7 = Progammer('ancestor7', 7)"
      ],
      "metadata": {
        "id": "KGfRqj4Ki_YV"
      },
      "execution_count": 127,
      "outputs": []
    },
    {
      "cell_type": "code",
      "source": [
        "ancestor8.introduce()"
      ],
      "metadata": {
        "colab": {
          "base_uri": "https://localhost:8080/"
        },
        "id": "7HH0tvNejY--",
        "outputId": "b4076fef-8f5f-4c2a-aace-53791216bc9a"
      },
      "execution_count": 128,
      "outputs": [
        {
          "output_type": "stream",
          "name": "stdout",
          "text": [
            "내 이름은 ancestor8 \n",
            "내 나이는  8 살이야\n"
          ]
        }
      ]
    },
    {
      "cell_type": "code",
      "source": [
        "ancestor8.arrest('ancestor12')"
      ],
      "metadata": {
        "colab": {
          "base_uri": "https://localhost:8080/"
        },
        "id": "TONlTGsFjWJU",
        "outputId": "7d6ef823-734b-4631-d5a0-ec126e3e7008"
      },
      "execution_count": 129,
      "outputs": [
        {
          "output_type": "stream",
          "name": "stdout",
          "text": [
            "넌 체포되었다, ancestor12\n"
          ]
        }
      ]
    },
    {
      "cell_type": "code",
      "source": [
        "ancestor7.code('웹페이지')"
      ],
      "metadata": {
        "colab": {
          "base_uri": "https://localhost:8080/"
        },
        "id": "y3sHASJyjzud",
        "outputId": "bc1f0aa6-e592-4590-e2a1-235633ad75fe"
      },
      "execution_count": 130,
      "outputs": [
        {
          "output_type": "stream",
          "name": "stdout",
          "text": [
            "만들어볼까, 요 것을 웹페이지\n"
          ]
        }
      ]
    },
    {
      "cell_type": "code",
      "source": [
        "ancestor7.arrest('ancestor12')"
      ],
      "metadata": {
        "colab": {
          "base_uri": "https://localhost:8080/",
          "height": 172
        },
        "id": "lJn2OeJ-j7F1",
        "outputId": "23fd6a44-f16b-4637-f0b3-fa73af27e66c"
      },
      "execution_count": 131,
      "outputs": [
        {
          "output_type": "error",
          "ename": "AttributeError",
          "evalue": "ignored",
          "traceback": [
            "\u001b[0;31m---------------------------------------------------------------------------\u001b[0m",
            "\u001b[0;31mAttributeError\u001b[0m                            Traceback (most recent call last)",
            "\u001b[0;32m<ipython-input-131-0809ca1be191>\u001b[0m in \u001b[0;36m<cell line: 1>\u001b[0;34m()\u001b[0m\n\u001b[0;32m----> 1\u001b[0;31m \u001b[0mancestor7\u001b[0m\u001b[0;34m.\u001b[0m\u001b[0marrest\u001b[0m\u001b[0;34m(\u001b[0m\u001b[0;34m'ancestor12'\u001b[0m\u001b[0;34m)\u001b[0m\u001b[0;34m\u001b[0m\u001b[0;34m\u001b[0m\u001b[0m\n\u001b[0m",
            "\u001b[0;31mAttributeError\u001b[0m: 'Progammer' object has no attribute 'arrest'"
          ]
        }
      ]
    },
    {
      "cell_type": "code",
      "source": [
        "ancestor9.arrest('ancestor12')"
      ],
      "metadata": {
        "colab": {
          "base_uri": "https://localhost:8080/",
          "height": 172
        },
        "id": "CFCFLOMJj90M",
        "outputId": "e2fa981e-88fd-4bdd-af0e-32d7aacd3e6a"
      },
      "execution_count": 132,
      "outputs": [
        {
          "output_type": "error",
          "ename": "AttributeError",
          "evalue": "ignored",
          "traceback": [
            "\u001b[0;31m---------------------------------------------------------------------------\u001b[0m",
            "\u001b[0;31mAttributeError\u001b[0m                            Traceback (most recent call last)",
            "\u001b[0;32m<ipython-input-132-786ac90971b1>\u001b[0m in \u001b[0;36m<cell line: 1>\u001b[0;34m()\u001b[0m\n\u001b[0;32m----> 1\u001b[0;31m \u001b[0mancestor9\u001b[0m\u001b[0;34m.\u001b[0m\u001b[0marrest\u001b[0m\u001b[0;34m(\u001b[0m\u001b[0;34m'ancestor12'\u001b[0m\u001b[0;34m)\u001b[0m\u001b[0;34m\u001b[0m\u001b[0;34m\u001b[0m\u001b[0m\n\u001b[0m",
            "\u001b[0;31mAttributeError\u001b[0m: 'Person' object has no attribute 'arrest'"
          ]
        }
      ]
    },
    {
      "cell_type": "code",
      "source": [
        "ancestor9.code('이메일 클라이언트')"
      ],
      "metadata": {
        "colab": {
          "base_uri": "https://localhost:8080/",
          "height": 172
        },
        "id": "CbDRhODVkAU0",
        "outputId": "99f78877-2ab8-4541-afd8-a002753c5c98"
      },
      "execution_count": 134,
      "outputs": [
        {
          "output_type": "error",
          "ename": "AttributeError",
          "evalue": "ignored",
          "traceback": [
            "\u001b[0;31m---------------------------------------------------------------------------\u001b[0m",
            "\u001b[0;31mAttributeError\u001b[0m                            Traceback (most recent call last)",
            "\u001b[0;32m<ipython-input-134-a0cbe776517d>\u001b[0m in \u001b[0;36m<cell line: 1>\u001b[0;34m()\u001b[0m\n\u001b[0;32m----> 1\u001b[0;31m \u001b[0mancestor9\u001b[0m\u001b[0;34m.\u001b[0m\u001b[0mcode\u001b[0m\u001b[0;34m(\u001b[0m\u001b[0;34m'이메일 클라이언트'\u001b[0m\u001b[0;34m)\u001b[0m\u001b[0;34m\u001b[0m\u001b[0;34m\u001b[0m\u001b[0m\n\u001b[0m",
            "\u001b[0;31mAttributeError\u001b[0m: 'Person' object has no attribute 'code'"
          ]
        }
      ]
    },
    {
      "cell_type": "markdown",
      "source": [
        "# Package와 Module\n",
        "### Package는 module의 합으로 다른 프로그램에서는 Library임\n",
        "### Module은 코드를 모아 모아서 특정 기능을 구현해 놓은 것"
      ],
      "metadata": {
        "id": "0CLYXltUk3KJ"
      }
    },
    {
      "cell_type": "code",
      "source": [
        "from geopy.geocoders import Nominatim\n",
        "geo_local = Nominatim(user_agent='South Korea')\n",
        "address = '서울시 송파구 신천동 올림픽대로 435'\n",
        "geo = geo_local.geocode(address)\n",
        "[geo.latitude, geo.longitude]\n",
        "loc = [geo.latitude, geo.longitude]"
      ],
      "metadata": {
        "id": "cQd3auE4kIS9"
      },
      "execution_count": 139,
      "outputs": []
    },
    {
      "cell_type": "code",
      "source": [
        "import folium\n",
        "m = folium.Map(location = loc, zoom_start = 14)\n",
        "m"
      ],
      "metadata": {
        "colab": {
          "base_uri": "https://localhost:8080/",
          "height": 866
        },
        "id": "CQ3yGDzZl_V6",
        "outputId": "bde80d96-d1a9-43ce-b9cc-e9a6eff04103"
      },
      "execution_count": 140,
      "outputs": [
        {
          "output_type": "execute_result",
          "data": {
            "text/plain": [
              "<folium.folium.Map at 0x7f84a64ee080>"
            ],
            "text/html": [
              "<div style=\"width:100%;\"><div style=\"position:relative;width:100%;height:0;padding-bottom:60%;\"><span style=\"color:#565656\">Make this Notebook Trusted to load map: File -> Trust Notebook</span><iframe srcdoc=\"&lt;!DOCTYPE html&gt;\n",
              "&lt;html&gt;\n",
              "&lt;head&gt;\n",
              "    \n",
              "    &lt;meta http-equiv=&quot;content-type&quot; content=&quot;text/html; charset=UTF-8&quot; /&gt;\n",
              "    \n",
              "        &lt;script&gt;\n",
              "            L_NO_TOUCH = false;\n",
              "            L_DISABLE_3D = false;\n",
              "        &lt;/script&gt;\n",
              "    \n",
              "    &lt;style&gt;html, body {width: 100%;height: 100%;margin: 0;padding: 0;}&lt;/style&gt;\n",
              "    &lt;style&gt;#map {position:absolute;top:0;bottom:0;right:0;left:0;}&lt;/style&gt;\n",
              "    &lt;script src=&quot;https://cdn.jsdelivr.net/npm/leaflet@1.9.3/dist/leaflet.js&quot;&gt;&lt;/script&gt;\n",
              "    &lt;script src=&quot;https://code.jquery.com/jquery-1.12.4.min.js&quot;&gt;&lt;/script&gt;\n",
              "    &lt;script src=&quot;https://cdn.jsdelivr.net/npm/bootstrap@5.2.2/dist/js/bootstrap.bundle.min.js&quot;&gt;&lt;/script&gt;\n",
              "    &lt;script src=&quot;https://cdnjs.cloudflare.com/ajax/libs/Leaflet.awesome-markers/2.0.2/leaflet.awesome-markers.js&quot;&gt;&lt;/script&gt;\n",
              "    &lt;link rel=&quot;stylesheet&quot; href=&quot;https://cdn.jsdelivr.net/npm/leaflet@1.9.3/dist/leaflet.css&quot;/&gt;\n",
              "    &lt;link rel=&quot;stylesheet&quot; href=&quot;https://cdn.jsdelivr.net/npm/bootstrap@5.2.2/dist/css/bootstrap.min.css&quot;/&gt;\n",
              "    &lt;link rel=&quot;stylesheet&quot; href=&quot;https://netdna.bootstrapcdn.com/bootstrap/3.0.0/css/bootstrap.min.css&quot;/&gt;\n",
              "    &lt;link rel=&quot;stylesheet&quot; href=&quot;https://cdn.jsdelivr.net/npm/@fortawesome/fontawesome-free@6.2.0/css/all.min.css&quot;/&gt;\n",
              "    &lt;link rel=&quot;stylesheet&quot; href=&quot;https://cdnjs.cloudflare.com/ajax/libs/Leaflet.awesome-markers/2.0.2/leaflet.awesome-markers.css&quot;/&gt;\n",
              "    &lt;link rel=&quot;stylesheet&quot; href=&quot;https://cdn.jsdelivr.net/gh/python-visualization/folium/folium/templates/leaflet.awesome.rotate.min.css&quot;/&gt;\n",
              "    \n",
              "            &lt;meta name=&quot;viewport&quot; content=&quot;width=device-width,\n",
              "                initial-scale=1.0, maximum-scale=1.0, user-scalable=no&quot; /&gt;\n",
              "            &lt;style&gt;\n",
              "                #map_93f34bd9cd19f97189992243e5889900 {\n",
              "                    position: relative;\n",
              "                    width: 100.0%;\n",
              "                    height: 100.0%;\n",
              "                    left: 0.0%;\n",
              "                    top: 0.0%;\n",
              "                }\n",
              "                .leaflet-container { font-size: 1rem; }\n",
              "            &lt;/style&gt;\n",
              "        \n",
              "&lt;/head&gt;\n",
              "&lt;body&gt;\n",
              "    \n",
              "    \n",
              "            &lt;div class=&quot;folium-map&quot; id=&quot;map_93f34bd9cd19f97189992243e5889900&quot; &gt;&lt;/div&gt;\n",
              "        \n",
              "&lt;/body&gt;\n",
              "&lt;script&gt;\n",
              "    \n",
              "    \n",
              "            var map_93f34bd9cd19f97189992243e5889900 = L.map(\n",
              "                &quot;map_93f34bd9cd19f97189992243e5889900&quot;,\n",
              "                {\n",
              "                    center: [37.5234105, 127.1025446],\n",
              "                    crs: L.CRS.EPSG3857,\n",
              "                    zoom: 14,\n",
              "                    zoomControl: true,\n",
              "                    preferCanvas: false,\n",
              "                }\n",
              "            );\n",
              "\n",
              "            \n",
              "\n",
              "        \n",
              "    \n",
              "            var tile_layer_a0271dfdc397224691dc16fb8dfad0be = L.tileLayer(\n",
              "                &quot;https://{s}.tile.openstreetmap.org/{z}/{x}/{y}.png&quot;,\n",
              "                {&quot;attribution&quot;: &quot;Data by \\u0026copy; \\u003ca target=\\&quot;_blank\\&quot; href=\\&quot;http://openstreetmap.org\\&quot;\\u003eOpenStreetMap\\u003c/a\\u003e, under \\u003ca target=\\&quot;_blank\\&quot; href=\\&quot;http://www.openstreetmap.org/copyright\\&quot;\\u003eODbL\\u003c/a\\u003e.&quot;, &quot;detectRetina&quot;: false, &quot;maxNativeZoom&quot;: 18, &quot;maxZoom&quot;: 18, &quot;minZoom&quot;: 0, &quot;noWrap&quot;: false, &quot;opacity&quot;: 1, &quot;subdomains&quot;: &quot;abc&quot;, &quot;tms&quot;: false}\n",
              "            ).addTo(map_93f34bd9cd19f97189992243e5889900);\n",
              "        \n",
              "&lt;/script&gt;\n",
              "&lt;/html&gt;\" style=\"position:absolute;width:100%;height:100%;left:0;top:0;border:none !important;\" allowfullscreen webkitallowfullscreen mozallowfullscreen></iframe></div></div>"
            ]
          },
          "metadata": {},
          "execution_count": 140
        }
      ]
    },
    {
      "cell_type": "code",
      "source": [
        "from branca.element import Figure\n",
        "fig = Figure(width=1200,height=300)\n",
        "m = folium.Map(location=loc, zoom_start=15)\n",
        "fig.add_child(m)\n",
        "folium.Marker(loc).add_to(m)\n",
        "folium.Marker(loc, popup='<b>우리 집</b>').add_to(m)\n",
        "m"
      ],
      "metadata": {
        "colab": {
          "base_uri": "https://localhost:8080/",
          "height": 320
        },
        "id": "mQZgUcQhncEs",
        "outputId": "597b4e6d-63cf-4345-dac1-3da16fffd858"
      },
      "execution_count": 151,
      "outputs": [
        {
          "output_type": "execute_result",
          "data": {
            "text/plain": [
              "<folium.folium.Map at 0x7f84a5f1edd0>"
            ],
            "text/html": [
              "<iframe srcdoc=\"&lt;!DOCTYPE html&gt;\n",
              "&lt;html&gt;\n",
              "&lt;head&gt;\n",
              "    \n",
              "    &lt;meta http-equiv=&quot;content-type&quot; content=&quot;text/html; charset=UTF-8&quot; /&gt;\n",
              "    \n",
              "        &lt;script&gt;\n",
              "            L_NO_TOUCH = false;\n",
              "            L_DISABLE_3D = false;\n",
              "        &lt;/script&gt;\n",
              "    \n",
              "    &lt;style&gt;html, body {width: 100%;height: 100%;margin: 0;padding: 0;}&lt;/style&gt;\n",
              "    &lt;style&gt;#map {position:absolute;top:0;bottom:0;right:0;left:0;}&lt;/style&gt;\n",
              "    &lt;script src=&quot;https://cdn.jsdelivr.net/npm/leaflet@1.9.3/dist/leaflet.js&quot;&gt;&lt;/script&gt;\n",
              "    &lt;script src=&quot;https://code.jquery.com/jquery-1.12.4.min.js&quot;&gt;&lt;/script&gt;\n",
              "    &lt;script src=&quot;https://cdn.jsdelivr.net/npm/bootstrap@5.2.2/dist/js/bootstrap.bundle.min.js&quot;&gt;&lt;/script&gt;\n",
              "    &lt;script src=&quot;https://cdnjs.cloudflare.com/ajax/libs/Leaflet.awesome-markers/2.0.2/leaflet.awesome-markers.js&quot;&gt;&lt;/script&gt;\n",
              "    &lt;link rel=&quot;stylesheet&quot; href=&quot;https://cdn.jsdelivr.net/npm/leaflet@1.9.3/dist/leaflet.css&quot;/&gt;\n",
              "    &lt;link rel=&quot;stylesheet&quot; href=&quot;https://cdn.jsdelivr.net/npm/bootstrap@5.2.2/dist/css/bootstrap.min.css&quot;/&gt;\n",
              "    &lt;link rel=&quot;stylesheet&quot; href=&quot;https://netdna.bootstrapcdn.com/bootstrap/3.0.0/css/bootstrap.min.css&quot;/&gt;\n",
              "    &lt;link rel=&quot;stylesheet&quot; href=&quot;https://cdn.jsdelivr.net/npm/@fortawesome/fontawesome-free@6.2.0/css/all.min.css&quot;/&gt;\n",
              "    &lt;link rel=&quot;stylesheet&quot; href=&quot;https://cdnjs.cloudflare.com/ajax/libs/Leaflet.awesome-markers/2.0.2/leaflet.awesome-markers.css&quot;/&gt;\n",
              "    &lt;link rel=&quot;stylesheet&quot; href=&quot;https://cdn.jsdelivr.net/gh/python-visualization/folium/folium/templates/leaflet.awesome.rotate.min.css&quot;/&gt;\n",
              "    \n",
              "            &lt;meta name=&quot;viewport&quot; content=&quot;width=device-width,\n",
              "                initial-scale=1.0, maximum-scale=1.0, user-scalable=no&quot; /&gt;\n",
              "            &lt;style&gt;\n",
              "                #map_de1888716cdd0b042153b58e6d9f79b0 {\n",
              "                    position: relative;\n",
              "                    width: 100.0%;\n",
              "                    height: 100.0%;\n",
              "                    left: 0.0%;\n",
              "                    top: 0.0%;\n",
              "                }\n",
              "                .leaflet-container { font-size: 1rem; }\n",
              "            &lt;/style&gt;\n",
              "        \n",
              "&lt;/head&gt;\n",
              "&lt;body&gt;\n",
              "    \n",
              "    \n",
              "            &lt;div class=&quot;folium-map&quot; id=&quot;map_de1888716cdd0b042153b58e6d9f79b0&quot; &gt;&lt;/div&gt;\n",
              "        \n",
              "&lt;/body&gt;\n",
              "&lt;script&gt;\n",
              "    \n",
              "    \n",
              "            var map_de1888716cdd0b042153b58e6d9f79b0 = L.map(\n",
              "                &quot;map_de1888716cdd0b042153b58e6d9f79b0&quot;,\n",
              "                {\n",
              "                    center: [37.5234105, 127.1025446],\n",
              "                    crs: L.CRS.EPSG3857,\n",
              "                    zoom: 15,\n",
              "                    zoomControl: true,\n",
              "                    preferCanvas: false,\n",
              "                }\n",
              "            );\n",
              "\n",
              "            \n",
              "\n",
              "        \n",
              "    \n",
              "            var tile_layer_d6a9b97f7c220bf30cf0dcaec9bcd042 = L.tileLayer(\n",
              "                &quot;https://{s}.tile.openstreetmap.org/{z}/{x}/{y}.png&quot;,\n",
              "                {&quot;attribution&quot;: &quot;Data by \\u0026copy; \\u003ca target=\\&quot;_blank\\&quot; href=\\&quot;http://openstreetmap.org\\&quot;\\u003eOpenStreetMap\\u003c/a\\u003e, under \\u003ca target=\\&quot;_blank\\&quot; href=\\&quot;http://www.openstreetmap.org/copyright\\&quot;\\u003eODbL\\u003c/a\\u003e.&quot;, &quot;detectRetina&quot;: false, &quot;maxNativeZoom&quot;: 18, &quot;maxZoom&quot;: 18, &quot;minZoom&quot;: 0, &quot;noWrap&quot;: false, &quot;opacity&quot;: 1, &quot;subdomains&quot;: &quot;abc&quot;, &quot;tms&quot;: false}\n",
              "            ).addTo(map_de1888716cdd0b042153b58e6d9f79b0);\n",
              "        \n",
              "    \n",
              "            var marker_4d8f63d6b9303e02c0f5c086f7f2b1f2 = L.marker(\n",
              "                [37.5234105, 127.1025446],\n",
              "                {}\n",
              "            ).addTo(map_de1888716cdd0b042153b58e6d9f79b0);\n",
              "        \n",
              "    \n",
              "            var marker_85eb8e7f9d03a918b707f664a75ad41b = L.marker(\n",
              "                [37.5234105, 127.1025446],\n",
              "                {}\n",
              "            ).addTo(map_de1888716cdd0b042153b58e6d9f79b0);\n",
              "        \n",
              "    \n",
              "        var popup_6df111b2bc6d4e6ee7d9a3ce6b2fc20f = L.popup({&quot;maxWidth&quot;: &quot;100%&quot;});\n",
              "\n",
              "        \n",
              "            \n",
              "                var html_3ba1602804a896274074c42c81723ccd = $(`&lt;div id=&quot;html_3ba1602804a896274074c42c81723ccd&quot; style=&quot;width: 100.0%; height: 100.0%;&quot;&gt;&lt;b&gt;우리 집&lt;/b&gt;&lt;/div&gt;`)[0];\n",
              "                popup_6df111b2bc6d4e6ee7d9a3ce6b2fc20f.setContent(html_3ba1602804a896274074c42c81723ccd);\n",
              "            \n",
              "        \n",
              "\n",
              "        marker_85eb8e7f9d03a918b707f664a75ad41b.bindPopup(popup_6df111b2bc6d4e6ee7d9a3ce6b2fc20f)\n",
              "        ;\n",
              "\n",
              "        \n",
              "    \n",
              "&lt;/script&gt;\n",
              "&lt;/html&gt;\" width=\"1200\" height=\"300\"style=\"border:none !important;\" \"allowfullscreen\" \"webkitallowfullscreen\" \"mozallowfullscreen\"></iframe>"
            ]
          },
          "metadata": {},
          "execution_count": 151
        }
      ]
    },
    {
      "cell_type": "code",
      "source": [
        "fig = Figure(width=1200,height=300)\n",
        "\n",
        "# CircleMarker\n",
        "folium.CircleMarker(\n",
        "    loc,\n",
        "    radius=100,\n",
        "    fill=True,\n",
        "    color='#34ebc6',\n",
        "    fill_color='#c634eb',\n",
        "    popup='CircleMarker popup',\n",
        "    tooltip='CircleMarker tooltip'\n",
        ").add_to(m)\n",
        "\n",
        "m"
      ],
      "metadata": {
        "colab": {
          "base_uri": "https://localhost:8080/",
          "height": 320
        },
        "id": "sXZ32nC-nxgF",
        "outputId": "c7a90706-100d-4d33-c42c-6a5b5af9c778"
      },
      "execution_count": 153,
      "outputs": [
        {
          "output_type": "execute_result",
          "data": {
            "text/plain": [
              "<folium.folium.Map at 0x7f84a5f1edd0>"
            ],
            "text/html": [
              "<iframe srcdoc=\"&lt;!DOCTYPE html&gt;\n",
              "&lt;html&gt;\n",
              "&lt;head&gt;\n",
              "    \n",
              "    &lt;meta http-equiv=&quot;content-type&quot; content=&quot;text/html; charset=UTF-8&quot; /&gt;\n",
              "    \n",
              "        &lt;script&gt;\n",
              "            L_NO_TOUCH = false;\n",
              "            L_DISABLE_3D = false;\n",
              "        &lt;/script&gt;\n",
              "    \n",
              "    &lt;style&gt;html, body {width: 100%;height: 100%;margin: 0;padding: 0;}&lt;/style&gt;\n",
              "    &lt;style&gt;#map {position:absolute;top:0;bottom:0;right:0;left:0;}&lt;/style&gt;\n",
              "    &lt;script src=&quot;https://cdn.jsdelivr.net/npm/leaflet@1.9.3/dist/leaflet.js&quot;&gt;&lt;/script&gt;\n",
              "    &lt;script src=&quot;https://code.jquery.com/jquery-1.12.4.min.js&quot;&gt;&lt;/script&gt;\n",
              "    &lt;script src=&quot;https://cdn.jsdelivr.net/npm/bootstrap@5.2.2/dist/js/bootstrap.bundle.min.js&quot;&gt;&lt;/script&gt;\n",
              "    &lt;script src=&quot;https://cdnjs.cloudflare.com/ajax/libs/Leaflet.awesome-markers/2.0.2/leaflet.awesome-markers.js&quot;&gt;&lt;/script&gt;\n",
              "    &lt;link rel=&quot;stylesheet&quot; href=&quot;https://cdn.jsdelivr.net/npm/leaflet@1.9.3/dist/leaflet.css&quot;/&gt;\n",
              "    &lt;link rel=&quot;stylesheet&quot; href=&quot;https://cdn.jsdelivr.net/npm/bootstrap@5.2.2/dist/css/bootstrap.min.css&quot;/&gt;\n",
              "    &lt;link rel=&quot;stylesheet&quot; href=&quot;https://netdna.bootstrapcdn.com/bootstrap/3.0.0/css/bootstrap.min.css&quot;/&gt;\n",
              "    &lt;link rel=&quot;stylesheet&quot; href=&quot;https://cdn.jsdelivr.net/npm/@fortawesome/fontawesome-free@6.2.0/css/all.min.css&quot;/&gt;\n",
              "    &lt;link rel=&quot;stylesheet&quot; href=&quot;https://cdnjs.cloudflare.com/ajax/libs/Leaflet.awesome-markers/2.0.2/leaflet.awesome-markers.css&quot;/&gt;\n",
              "    &lt;link rel=&quot;stylesheet&quot; href=&quot;https://cdn.jsdelivr.net/gh/python-visualization/folium/folium/templates/leaflet.awesome.rotate.min.css&quot;/&gt;\n",
              "    \n",
              "            &lt;meta name=&quot;viewport&quot; content=&quot;width=device-width,\n",
              "                initial-scale=1.0, maximum-scale=1.0, user-scalable=no&quot; /&gt;\n",
              "            &lt;style&gt;\n",
              "                #map_de1888716cdd0b042153b58e6d9f79b0 {\n",
              "                    position: relative;\n",
              "                    width: 100.0%;\n",
              "                    height: 100.0%;\n",
              "                    left: 0.0%;\n",
              "                    top: 0.0%;\n",
              "                }\n",
              "                .leaflet-container { font-size: 1rem; }\n",
              "            &lt;/style&gt;\n",
              "        \n",
              "&lt;/head&gt;\n",
              "&lt;body&gt;\n",
              "    \n",
              "    \n",
              "            &lt;div class=&quot;folium-map&quot; id=&quot;map_de1888716cdd0b042153b58e6d9f79b0&quot; &gt;&lt;/div&gt;\n",
              "        \n",
              "&lt;/body&gt;\n",
              "&lt;script&gt;\n",
              "    \n",
              "    \n",
              "            var map_de1888716cdd0b042153b58e6d9f79b0 = L.map(\n",
              "                &quot;map_de1888716cdd0b042153b58e6d9f79b0&quot;,\n",
              "                {\n",
              "                    center: [37.5234105, 127.1025446],\n",
              "                    crs: L.CRS.EPSG3857,\n",
              "                    zoom: 15,\n",
              "                    zoomControl: true,\n",
              "                    preferCanvas: false,\n",
              "                }\n",
              "            );\n",
              "\n",
              "            \n",
              "\n",
              "        \n",
              "    \n",
              "            var tile_layer_d6a9b97f7c220bf30cf0dcaec9bcd042 = L.tileLayer(\n",
              "                &quot;https://{s}.tile.openstreetmap.org/{z}/{x}/{y}.png&quot;,\n",
              "                {&quot;attribution&quot;: &quot;Data by \\u0026copy; \\u003ca target=\\&quot;_blank\\&quot; href=\\&quot;http://openstreetmap.org\\&quot;\\u003eOpenStreetMap\\u003c/a\\u003e, under \\u003ca target=\\&quot;_blank\\&quot; href=\\&quot;http://www.openstreetmap.org/copyright\\&quot;\\u003eODbL\\u003c/a\\u003e.&quot;, &quot;detectRetina&quot;: false, &quot;maxNativeZoom&quot;: 18, &quot;maxZoom&quot;: 18, &quot;minZoom&quot;: 0, &quot;noWrap&quot;: false, &quot;opacity&quot;: 1, &quot;subdomains&quot;: &quot;abc&quot;, &quot;tms&quot;: false}\n",
              "            ).addTo(map_de1888716cdd0b042153b58e6d9f79b0);\n",
              "        \n",
              "    \n",
              "            var marker_4d8f63d6b9303e02c0f5c086f7f2b1f2 = L.marker(\n",
              "                [37.5234105, 127.1025446],\n",
              "                {}\n",
              "            ).addTo(map_de1888716cdd0b042153b58e6d9f79b0);\n",
              "        \n",
              "    \n",
              "            var marker_85eb8e7f9d03a918b707f664a75ad41b = L.marker(\n",
              "                [37.5234105, 127.1025446],\n",
              "                {}\n",
              "            ).addTo(map_de1888716cdd0b042153b58e6d9f79b0);\n",
              "        \n",
              "    \n",
              "        var popup_6df111b2bc6d4e6ee7d9a3ce6b2fc20f = L.popup({&quot;maxWidth&quot;: &quot;100%&quot;});\n",
              "\n",
              "        \n",
              "            \n",
              "                var html_3ba1602804a896274074c42c81723ccd = $(`&lt;div id=&quot;html_3ba1602804a896274074c42c81723ccd&quot; style=&quot;width: 100.0%; height: 100.0%;&quot;&gt;&lt;b&gt;우리 집&lt;/b&gt;&lt;/div&gt;`)[0];\n",
              "                popup_6df111b2bc6d4e6ee7d9a3ce6b2fc20f.setContent(html_3ba1602804a896274074c42c81723ccd);\n",
              "            \n",
              "        \n",
              "\n",
              "        marker_85eb8e7f9d03a918b707f664a75ad41b.bindPopup(popup_6df111b2bc6d4e6ee7d9a3ce6b2fc20f)\n",
              "        ;\n",
              "\n",
              "        \n",
              "    \n",
              "    \n",
              "            var circle_marker_ac47bca69ccd06741e3b2005f3f5bc29 = L.circleMarker(\n",
              "                [37.54455152583346, 127.05564949938811],\n",
              "                {&quot;bubblingMouseEvents&quot;: true, &quot;color&quot;: &quot;#34ebc6&quot;, &quot;dashArray&quot;: null, &quot;dashOffset&quot;: null, &quot;fill&quot;: true, &quot;fillColor&quot;: &quot;#c634eb&quot;, &quot;fillOpacity&quot;: 0.2, &quot;fillRule&quot;: &quot;evenodd&quot;, &quot;lineCap&quot;: &quot;round&quot;, &quot;lineJoin&quot;: &quot;round&quot;, &quot;opacity&quot;: 1.0, &quot;radius&quot;: 100, &quot;stroke&quot;: true, &quot;weight&quot;: 3}\n",
              "            ).addTo(map_de1888716cdd0b042153b58e6d9f79b0);\n",
              "        \n",
              "    \n",
              "        var popup_fade52faedebfc848c8e0696a99f6696 = L.popup({&quot;maxWidth&quot;: &quot;100%&quot;});\n",
              "\n",
              "        \n",
              "            \n",
              "                var html_50fddc226642a999a4031357e20cdbf9 = $(`&lt;div id=&quot;html_50fddc226642a999a4031357e20cdbf9&quot; style=&quot;width: 100.0%; height: 100.0%;&quot;&gt;CircleMarker popup&lt;/div&gt;`)[0];\n",
              "                popup_fade52faedebfc848c8e0696a99f6696.setContent(html_50fddc226642a999a4031357e20cdbf9);\n",
              "            \n",
              "        \n",
              "\n",
              "        circle_marker_ac47bca69ccd06741e3b2005f3f5bc29.bindPopup(popup_fade52faedebfc848c8e0696a99f6696)\n",
              "        ;\n",
              "\n",
              "        \n",
              "    \n",
              "    \n",
              "            circle_marker_ac47bca69ccd06741e3b2005f3f5bc29.bindTooltip(\n",
              "                `&lt;div&gt;\n",
              "                     CircleMarker tooltip\n",
              "                 &lt;/div&gt;`,\n",
              "                {&quot;sticky&quot;: true}\n",
              "            );\n",
              "        \n",
              "    \n",
              "            var circle_marker_8a88b3fbc951ba05f7f694de3b86aa52 = L.circleMarker(\n",
              "                [37.5234105, 127.1025446],\n",
              "                {&quot;bubblingMouseEvents&quot;: true, &quot;color&quot;: &quot;#34ebc6&quot;, &quot;dashArray&quot;: null, &quot;dashOffset&quot;: null, &quot;fill&quot;: true, &quot;fillColor&quot;: &quot;#c634eb&quot;, &quot;fillOpacity&quot;: 0.2, &quot;fillRule&quot;: &quot;evenodd&quot;, &quot;lineCap&quot;: &quot;round&quot;, &quot;lineJoin&quot;: &quot;round&quot;, &quot;opacity&quot;: 1.0, &quot;radius&quot;: 100, &quot;stroke&quot;: true, &quot;weight&quot;: 3}\n",
              "            ).addTo(map_de1888716cdd0b042153b58e6d9f79b0);\n",
              "        \n",
              "    \n",
              "        var popup_15c427c3af0c328f10cb4d0cc2acc59a = L.popup({&quot;maxWidth&quot;: &quot;100%&quot;});\n",
              "\n",
              "        \n",
              "            \n",
              "                var html_2a9a5f5d41892cb4b4e16788582b7906 = $(`&lt;div id=&quot;html_2a9a5f5d41892cb4b4e16788582b7906&quot; style=&quot;width: 100.0%; height: 100.0%;&quot;&gt;CircleMarker popup&lt;/div&gt;`)[0];\n",
              "                popup_15c427c3af0c328f10cb4d0cc2acc59a.setContent(html_2a9a5f5d41892cb4b4e16788582b7906);\n",
              "            \n",
              "        \n",
              "\n",
              "        circle_marker_8a88b3fbc951ba05f7f694de3b86aa52.bindPopup(popup_15c427c3af0c328f10cb4d0cc2acc59a)\n",
              "        ;\n",
              "\n",
              "        \n",
              "    \n",
              "    \n",
              "            circle_marker_8a88b3fbc951ba05f7f694de3b86aa52.bindTooltip(\n",
              "                `&lt;div&gt;\n",
              "                     CircleMarker tooltip\n",
              "                 &lt;/div&gt;`,\n",
              "                {&quot;sticky&quot;: true}\n",
              "            );\n",
              "        \n",
              "&lt;/script&gt;\n",
              "&lt;/html&gt;\" width=\"1200\" height=\"300\"style=\"border:none !important;\" \"allowfullscreen\" \"webkitallowfullscreen\" \"mozallowfullscreen\"></iframe>"
            ]
          },
          "metadata": {},
          "execution_count": 153
        }
      ]
    },
    {
      "cell_type": "markdown",
      "source": [
        "# End"
      ],
      "metadata": {
        "id": "MqaNCGPKoiGx"
      }
    },
    {
      "cell_type": "code",
      "source": [],
      "metadata": {
        "id": "crBgLAgBou_U"
      },
      "execution_count": null,
      "outputs": []
    }
  ]
}